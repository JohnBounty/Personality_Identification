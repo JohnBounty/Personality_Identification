{
 "cells": [
  {
   "cell_type": "markdown",
   "metadata": {
    "collapsed": true
   },
   "source": [
    "# Deployment - Watson ML\n",
    "\n",
    "*A notebook, where final models can be deployed.*"
   ]
  },
  {
   "cell_type": "markdown",
   "metadata": {},
   "source": [
    "## Settings"
   ]
  },
  {
   "cell_type": "code",
   "execution_count": 1,
   "metadata": {},
   "outputs": [
    {
     "name": "stdout",
     "output_type": "stream",
     "text": [
      "Requirement already satisfied: watson-machine-learning-client in /opt/conda/envs/Python36/lib/python3.6/site-packages (1.0.378)\n",
      "Requirement already satisfied: pandas in /opt/conda/envs/Python36/lib/python3.6/site-packages (from watson-machine-learning-client) (0.24.1)\n",
      "Requirement already satisfied: urllib3 in /opt/conda/envs/Python36/lib/python3.6/site-packages (from watson-machine-learning-client) (1.24.1)\n",
      "Requirement already satisfied: certifi in /opt/conda/envs/Python36/lib/python3.6/site-packages (from watson-machine-learning-client) (2020.6.20)\n",
      "Requirement already satisfied: tabulate in /opt/conda/envs/Python36/lib/python3.6/site-packages (from watson-machine-learning-client) (0.8.2)\n",
      "Requirement already satisfied: requests in /opt/conda/envs/Python36/lib/python3.6/site-packages (from watson-machine-learning-client) (2.21.0)\n",
      "Requirement already satisfied: ibm-cos-sdk in /opt/conda/envs/Python36/lib/python3.6/site-packages (from watson-machine-learning-client) (2.4.3)\n",
      "Requirement already satisfied: lomond in /opt/conda/envs/Python36/lib/python3.6/site-packages (from watson-machine-learning-client) (0.3.3)\n",
      "Requirement already satisfied: tqdm in /opt/conda/envs/Python36/lib/python3.6/site-packages (from watson-machine-learning-client) (4.31.1)\n",
      "Requirement already satisfied: pytz>=2011k in /opt/conda/envs/Python36/lib/python3.6/site-packages (from pandas->watson-machine-learning-client) (2018.9)\n",
      "Requirement already satisfied: python-dateutil>=2.5.0 in /opt/conda/envs/Python36/lib/python3.6/site-packages (from pandas->watson-machine-learning-client) (2.7.5)\n",
      "Requirement already satisfied: numpy>=1.12.0 in /opt/conda/envs/Python36/lib/python3.6/site-packages (from pandas->watson-machine-learning-client) (1.15.4)\n",
      "Requirement already satisfied: idna<2.9,>=2.5 in /opt/conda/envs/Python36/lib/python3.6/site-packages (from requests->watson-machine-learning-client) (2.8)\n",
      "Requirement already satisfied: chardet<3.1.0,>=3.0.2 in /opt/conda/envs/Python36/lib/python3.6/site-packages (from requests->watson-machine-learning-client) (3.0.4)\n",
      "Requirement already satisfied: ibm-cos-sdk-s3transfer==2.*,>=2.0.0 in /opt/conda/envs/Python36/lib/python3.6/site-packages (from ibm-cos-sdk->watson-machine-learning-client) (2.4.3)\n",
      "Requirement already satisfied: ibm-cos-sdk-core==2.*,>=2.0.0 in /opt/conda/envs/Python36/lib/python3.6/site-packages (from ibm-cos-sdk->watson-machine-learning-client) (2.4.3)\n",
      "Requirement already satisfied: six>=1.10.0 in /opt/conda/envs/Python36/lib/python3.6/site-packages (from lomond->watson-machine-learning-client) (1.12.0)\n",
      "Requirement already satisfied: docutils>=0.10 in /opt/conda/envs/Python36/lib/python3.6/site-packages (from ibm-cos-sdk-core==2.*,>=2.0.0->ibm-cos-sdk->watson-machine-learning-client) (0.14)\n",
      "Requirement already satisfied: jmespath<1.0.0,>=0.7.1 in /opt/conda/envs/Python36/lib/python3.6/site-packages (from ibm-cos-sdk-core==2.*,>=2.0.0->ibm-cos-sdk->watson-machine-learning-client) (0.9.3)\n"
     ]
    }
   ],
   "source": [
    "!pip install watson-machine-learning-client"
   ]
  },
  {
   "cell_type": "code",
   "execution_count": 2,
   "metadata": {},
   "outputs": [],
   "source": [
    "%reset -f"
   ]
  },
  {
   "cell_type": "code",
   "execution_count": 3,
   "metadata": {},
   "outputs": [],
   "source": [
    "import numpy as np\n",
    "import pandas as pd\n",
    "import seaborn as sns\n",
    "import matplotlib.pyplot as plt\n",
    "import time\n",
    "import scipy \n",
    "\n",
    "import tensorflow as tf\n",
    "from tensorflow.keras.models import Sequential, Model\n",
    "from tensorflow.keras.layers import Dense, Dropout, Input\n",
    "\n",
    "from tensorflow import keras as K\n",
    "from tensorflow.keras import layers\n",
    "\n",
    "from sklearn.cluster import KMeans\n",
    "from sklearn.metrics import silhouette_score\n",
    "from sklearn.metrics import silhouette_samples"
   ]
  },
  {
   "cell_type": "code",
   "execution_count": 4,
   "metadata": {},
   "outputs": [],
   "source": [
    "# @hidden_cell\n",
    "# The project token is an authorization token that is used to access project resources like data sources, connections, and used by platform APIs.\n",
    "from project_lib import Project\n",
    "project = Project(project_id='*****************', project_access_token='**********************************')\n",
    "pc = project.project_context\n"
   ]
  },
  {
   "cell_type": "markdown",
   "metadata": {},
   "source": [
    "## Load data"
   ]
  },
  {
   "cell_type": "code",
   "execution_count": 5,
   "metadata": {},
   "outputs": [
    {
     "data": {
      "text/html": [
       "<div>\n",
       "<style scoped>\n",
       "    .dataframe tbody tr th:only-of-type {\n",
       "        vertical-align: middle;\n",
       "    }\n",
       "\n",
       "    .dataframe tbody tr th {\n",
       "        vertical-align: top;\n",
       "    }\n",
       "\n",
       "    .dataframe thead th {\n",
       "        text-align: right;\n",
       "    }\n",
       "</style>\n",
       "<table border=\"1\" class=\"dataframe\">\n",
       "  <thead>\n",
       "    <tr style=\"text-align: right;\">\n",
       "      <th></th>\n",
       "      <th>UID</th>\n",
       "      <th>Openness</th>\n",
       "      <th>Conscientiousness</th>\n",
       "      <th>Extraversion</th>\n",
       "      <th>Agreeableness</th>\n",
       "      <th>Emotional range</th>\n",
       "      <th>Challenge</th>\n",
       "      <th>Closeness</th>\n",
       "      <th>Curiosity</th>\n",
       "      <th>Excitement</th>\n",
       "      <th>...</th>\n",
       "      <th>Love</th>\n",
       "      <th>Practicality</th>\n",
       "      <th>Self-expression</th>\n",
       "      <th>Stability</th>\n",
       "      <th>Structure</th>\n",
       "      <th>Conservation</th>\n",
       "      <th>Openness to change</th>\n",
       "      <th>Hedonism</th>\n",
       "      <th>Self-enhancement</th>\n",
       "      <th>Self-transcendence</th>\n",
       "    </tr>\n",
       "  </thead>\n",
       "  <tbody>\n",
       "    <tr>\n",
       "      <th>0</th>\n",
       "      <td>89168924</td>\n",
       "      <td>0.672358</td>\n",
       "      <td>0.515518</td>\n",
       "      <td>0.202560</td>\n",
       "      <td>0.388493</td>\n",
       "      <td>0.952090</td>\n",
       "      <td>0.449133</td>\n",
       "      <td>0.491036</td>\n",
       "      <td>0.373575</td>\n",
       "      <td>0.361041</td>\n",
       "      <td>...</td>\n",
       "      <td>0.669498</td>\n",
       "      <td>0.527576</td>\n",
       "      <td>0.765530</td>\n",
       "      <td>0.314229</td>\n",
       "      <td>0.463151</td>\n",
       "      <td>0.362166</td>\n",
       "      <td>0.480516</td>\n",
       "      <td>0.437073</td>\n",
       "      <td>0.592248</td>\n",
       "      <td>0.485292</td>\n",
       "    </tr>\n",
       "    <tr>\n",
       "      <th>1</th>\n",
       "      <td>74580436</td>\n",
       "      <td>0.769577</td>\n",
       "      <td>0.442860</td>\n",
       "      <td>0.063138</td>\n",
       "      <td>0.152624</td>\n",
       "      <td>0.998766</td>\n",
       "      <td>0.792551</td>\n",
       "      <td>0.712586</td>\n",
       "      <td>0.726484</td>\n",
       "      <td>0.940915</td>\n",
       "      <td>...</td>\n",
       "      <td>0.964348</td>\n",
       "      <td>0.991403</td>\n",
       "      <td>0.998430</td>\n",
       "      <td>0.923608</td>\n",
       "      <td>0.908561</td>\n",
       "      <td>0.743416</td>\n",
       "      <td>0.608181</td>\n",
       "      <td>0.473193</td>\n",
       "      <td>0.882402</td>\n",
       "      <td>0.857386</td>\n",
       "    </tr>\n",
       "    <tr>\n",
       "      <th>2</th>\n",
       "      <td>52536879</td>\n",
       "      <td>0.445128</td>\n",
       "      <td>0.776801</td>\n",
       "      <td>0.899640</td>\n",
       "      <td>0.881138</td>\n",
       "      <td>0.706536</td>\n",
       "      <td>0.857511</td>\n",
       "      <td>0.842577</td>\n",
       "      <td>0.751038</td>\n",
       "      <td>0.759625</td>\n",
       "      <td>...</td>\n",
       "      <td>0.899586</td>\n",
       "      <td>0.529881</td>\n",
       "      <td>0.791273</td>\n",
       "      <td>0.899268</td>\n",
       "      <td>0.607543</td>\n",
       "      <td>0.917088</td>\n",
       "      <td>0.715703</td>\n",
       "      <td>0.825515</td>\n",
       "      <td>0.962015</td>\n",
       "      <td>0.753915</td>\n",
       "    </tr>\n",
       "    <tr>\n",
       "      <th>3</th>\n",
       "      <td>17243213</td>\n",
       "      <td>0.707812</td>\n",
       "      <td>0.725007</td>\n",
       "      <td>0.057476</td>\n",
       "      <td>0.296220</td>\n",
       "      <td>0.990815</td>\n",
       "      <td>0.551724</td>\n",
       "      <td>0.447475</td>\n",
       "      <td>0.519926</td>\n",
       "      <td>0.487398</td>\n",
       "      <td>...</td>\n",
       "      <td>0.542529</td>\n",
       "      <td>0.546406</td>\n",
       "      <td>0.840359</td>\n",
       "      <td>0.770971</td>\n",
       "      <td>0.740211</td>\n",
       "      <td>0.411759</td>\n",
       "      <td>0.566608</td>\n",
       "      <td>0.215377</td>\n",
       "      <td>0.478906</td>\n",
       "      <td>0.604419</td>\n",
       "    </tr>\n",
       "    <tr>\n",
       "      <th>4</th>\n",
       "      <td>278662460</td>\n",
       "      <td>0.659059</td>\n",
       "      <td>0.788241</td>\n",
       "      <td>0.708605</td>\n",
       "      <td>0.238162</td>\n",
       "      <td>0.566861</td>\n",
       "      <td>0.686579</td>\n",
       "      <td>0.331890</td>\n",
       "      <td>0.248036</td>\n",
       "      <td>0.528839</td>\n",
       "      <td>...</td>\n",
       "      <td>0.247863</td>\n",
       "      <td>0.619599</td>\n",
       "      <td>0.413212</td>\n",
       "      <td>0.747458</td>\n",
       "      <td>0.800460</td>\n",
       "      <td>0.741150</td>\n",
       "      <td>0.436434</td>\n",
       "      <td>0.685875</td>\n",
       "      <td>0.959131</td>\n",
       "      <td>0.235388</td>\n",
       "    </tr>\n",
       "  </tbody>\n",
       "</table>\n",
       "<p>5 rows × 23 columns</p>\n",
       "</div>"
      ],
      "text/plain": [
       "         UID  Openness  Conscientiousness  Extraversion  Agreeableness  \\\n",
       "0   89168924  0.672358           0.515518      0.202560       0.388493   \n",
       "1   74580436  0.769577           0.442860      0.063138       0.152624   \n",
       "2   52536879  0.445128           0.776801      0.899640       0.881138   \n",
       "3   17243213  0.707812           0.725007      0.057476       0.296220   \n",
       "4  278662460  0.659059           0.788241      0.708605       0.238162   \n",
       "\n",
       "   Emotional range  Challenge  Closeness  Curiosity  Excitement  ...  \\\n",
       "0         0.952090   0.449133   0.491036   0.373575    0.361041  ...   \n",
       "1         0.998766   0.792551   0.712586   0.726484    0.940915  ...   \n",
       "2         0.706536   0.857511   0.842577   0.751038    0.759625  ...   \n",
       "3         0.990815   0.551724   0.447475   0.519926    0.487398  ...   \n",
       "4         0.566861   0.686579   0.331890   0.248036    0.528839  ...   \n",
       "\n",
       "       Love  Practicality  Self-expression  Stability  Structure  \\\n",
       "0  0.669498      0.527576         0.765530   0.314229   0.463151   \n",
       "1  0.964348      0.991403         0.998430   0.923608   0.908561   \n",
       "2  0.899586      0.529881         0.791273   0.899268   0.607543   \n",
       "3  0.542529      0.546406         0.840359   0.770971   0.740211   \n",
       "4  0.247863      0.619599         0.413212   0.747458   0.800460   \n",
       "\n",
       "   Conservation  Openness to change  Hedonism  Self-enhancement  \\\n",
       "0      0.362166            0.480516  0.437073          0.592248   \n",
       "1      0.743416            0.608181  0.473193          0.882402   \n",
       "2      0.917088            0.715703  0.825515          0.962015   \n",
       "3      0.411759            0.566608  0.215377          0.478906   \n",
       "4      0.741150            0.436434  0.685875          0.959131   \n",
       "\n",
       "   Self-transcendence  \n",
       "0            0.485292  \n",
       "1            0.857386  \n",
       "2            0.753915  \n",
       "3            0.604419  \n",
       "4            0.235388  \n",
       "\n",
       "[5 rows x 23 columns]"
      ]
     },
     "execution_count": 5,
     "metadata": {},
     "output_type": "execute_result"
    }
   ],
   "source": [
    "# loading profiles.csv\n",
    "f = project.get_file('profiles.csv')\n",
    "profiles_raw = pd.read_csv(f)\n",
    "profiles_raw.head()"
   ]
  },
  {
   "cell_type": "code",
   "execution_count": 6,
   "metadata": {},
   "outputs": [
    {
     "data": {
      "text/html": [
       "<div>\n",
       "<style scoped>\n",
       "    .dataframe tbody tr th:only-of-type {\n",
       "        vertical-align: middle;\n",
       "    }\n",
       "\n",
       "    .dataframe tbody tr th {\n",
       "        vertical-align: top;\n",
       "    }\n",
       "\n",
       "    .dataframe thead th {\n",
       "        text-align: right;\n",
       "    }\n",
       "</style>\n",
       "<table border=\"1\" class=\"dataframe\">\n",
       "  <thead>\n",
       "    <tr style=\"text-align: right;\">\n",
       "      <th></th>\n",
       "      <th>Openness</th>\n",
       "      <th>Conscientiousness</th>\n",
       "      <th>Extraversion</th>\n",
       "      <th>Agreeableness</th>\n",
       "      <th>Emotional range</th>\n",
       "      <th>Challenge</th>\n",
       "      <th>Closeness</th>\n",
       "      <th>Curiosity</th>\n",
       "      <th>Excitement</th>\n",
       "      <th>Harmony</th>\n",
       "      <th>...</th>\n",
       "      <th>Love</th>\n",
       "      <th>Practicality</th>\n",
       "      <th>Self-expression</th>\n",
       "      <th>Stability</th>\n",
       "      <th>Structure</th>\n",
       "      <th>Conservation</th>\n",
       "      <th>Openness to change</th>\n",
       "      <th>Hedonism</th>\n",
       "      <th>Self-enhancement</th>\n",
       "      <th>Self-transcendence</th>\n",
       "    </tr>\n",
       "  </thead>\n",
       "  <tbody>\n",
       "    <tr>\n",
       "      <th>0</th>\n",
       "      <td>0.672358</td>\n",
       "      <td>0.515518</td>\n",
       "      <td>0.202560</td>\n",
       "      <td>0.388493</td>\n",
       "      <td>0.952090</td>\n",
       "      <td>0.449133</td>\n",
       "      <td>0.491036</td>\n",
       "      <td>0.373575</td>\n",
       "      <td>0.361041</td>\n",
       "      <td>0.673358</td>\n",
       "      <td>...</td>\n",
       "      <td>0.669498</td>\n",
       "      <td>0.527576</td>\n",
       "      <td>0.765530</td>\n",
       "      <td>0.314229</td>\n",
       "      <td>0.463151</td>\n",
       "      <td>0.362166</td>\n",
       "      <td>0.480516</td>\n",
       "      <td>0.437073</td>\n",
       "      <td>0.592248</td>\n",
       "      <td>0.485292</td>\n",
       "    </tr>\n",
       "    <tr>\n",
       "      <th>1</th>\n",
       "      <td>0.769577</td>\n",
       "      <td>0.442860</td>\n",
       "      <td>0.063138</td>\n",
       "      <td>0.152624</td>\n",
       "      <td>0.998766</td>\n",
       "      <td>0.792551</td>\n",
       "      <td>0.712586</td>\n",
       "      <td>0.726484</td>\n",
       "      <td>0.940915</td>\n",
       "      <td>0.769730</td>\n",
       "      <td>...</td>\n",
       "      <td>0.964348</td>\n",
       "      <td>0.991403</td>\n",
       "      <td>0.998430</td>\n",
       "      <td>0.923608</td>\n",
       "      <td>0.908561</td>\n",
       "      <td>0.743416</td>\n",
       "      <td>0.608181</td>\n",
       "      <td>0.473193</td>\n",
       "      <td>0.882402</td>\n",
       "      <td>0.857386</td>\n",
       "    </tr>\n",
       "    <tr>\n",
       "      <th>2</th>\n",
       "      <td>0.445128</td>\n",
       "      <td>0.776801</td>\n",
       "      <td>0.899640</td>\n",
       "      <td>0.881138</td>\n",
       "      <td>0.706536</td>\n",
       "      <td>0.857511</td>\n",
       "      <td>0.842577</td>\n",
       "      <td>0.751038</td>\n",
       "      <td>0.759625</td>\n",
       "      <td>0.892253</td>\n",
       "      <td>...</td>\n",
       "      <td>0.899586</td>\n",
       "      <td>0.529881</td>\n",
       "      <td>0.791273</td>\n",
       "      <td>0.899268</td>\n",
       "      <td>0.607543</td>\n",
       "      <td>0.917088</td>\n",
       "      <td>0.715703</td>\n",
       "      <td>0.825515</td>\n",
       "      <td>0.962015</td>\n",
       "      <td>0.753915</td>\n",
       "    </tr>\n",
       "    <tr>\n",
       "      <th>3</th>\n",
       "      <td>0.707812</td>\n",
       "      <td>0.725007</td>\n",
       "      <td>0.057476</td>\n",
       "      <td>0.296220</td>\n",
       "      <td>0.990815</td>\n",
       "      <td>0.551724</td>\n",
       "      <td>0.447475</td>\n",
       "      <td>0.519926</td>\n",
       "      <td>0.487398</td>\n",
       "      <td>0.721506</td>\n",
       "      <td>...</td>\n",
       "      <td>0.542529</td>\n",
       "      <td>0.546406</td>\n",
       "      <td>0.840359</td>\n",
       "      <td>0.770971</td>\n",
       "      <td>0.740211</td>\n",
       "      <td>0.411759</td>\n",
       "      <td>0.566608</td>\n",
       "      <td>0.215377</td>\n",
       "      <td>0.478906</td>\n",
       "      <td>0.604419</td>\n",
       "    </tr>\n",
       "    <tr>\n",
       "      <th>4</th>\n",
       "      <td>0.659059</td>\n",
       "      <td>0.788241</td>\n",
       "      <td>0.708605</td>\n",
       "      <td>0.238162</td>\n",
       "      <td>0.566861</td>\n",
       "      <td>0.686579</td>\n",
       "      <td>0.331890</td>\n",
       "      <td>0.248036</td>\n",
       "      <td>0.528839</td>\n",
       "      <td>0.559211</td>\n",
       "      <td>...</td>\n",
       "      <td>0.247863</td>\n",
       "      <td>0.619599</td>\n",
       "      <td>0.413212</td>\n",
       "      <td>0.747458</td>\n",
       "      <td>0.800460</td>\n",
       "      <td>0.741150</td>\n",
       "      <td>0.436434</td>\n",
       "      <td>0.685875</td>\n",
       "      <td>0.959131</td>\n",
       "      <td>0.235388</td>\n",
       "    </tr>\n",
       "  </tbody>\n",
       "</table>\n",
       "<p>5 rows × 22 columns</p>\n",
       "</div>"
      ],
      "text/plain": [
       "   Openness  Conscientiousness  Extraversion  Agreeableness  Emotional range  \\\n",
       "0  0.672358           0.515518      0.202560       0.388493         0.952090   \n",
       "1  0.769577           0.442860      0.063138       0.152624         0.998766   \n",
       "2  0.445128           0.776801      0.899640       0.881138         0.706536   \n",
       "3  0.707812           0.725007      0.057476       0.296220         0.990815   \n",
       "4  0.659059           0.788241      0.708605       0.238162         0.566861   \n",
       "\n",
       "   Challenge  Closeness  Curiosity  Excitement   Harmony  ...      Love  \\\n",
       "0   0.449133   0.491036   0.373575    0.361041  0.673358  ...  0.669498   \n",
       "1   0.792551   0.712586   0.726484    0.940915  0.769730  ...  0.964348   \n",
       "2   0.857511   0.842577   0.751038    0.759625  0.892253  ...  0.899586   \n",
       "3   0.551724   0.447475   0.519926    0.487398  0.721506  ...  0.542529   \n",
       "4   0.686579   0.331890   0.248036    0.528839  0.559211  ...  0.247863   \n",
       "\n",
       "   Practicality  Self-expression  Stability  Structure  Conservation  \\\n",
       "0      0.527576         0.765530   0.314229   0.463151      0.362166   \n",
       "1      0.991403         0.998430   0.923608   0.908561      0.743416   \n",
       "2      0.529881         0.791273   0.899268   0.607543      0.917088   \n",
       "3      0.546406         0.840359   0.770971   0.740211      0.411759   \n",
       "4      0.619599         0.413212   0.747458   0.800460      0.741150   \n",
       "\n",
       "   Openness to change  Hedonism  Self-enhancement  Self-transcendence  \n",
       "0            0.480516  0.437073          0.592248            0.485292  \n",
       "1            0.608181  0.473193          0.882402            0.857386  \n",
       "2            0.715703  0.825515          0.962015            0.753915  \n",
       "3            0.566608  0.215377          0.478906            0.604419  \n",
       "4            0.436434  0.685875          0.959131            0.235388  \n",
       "\n",
       "[5 rows x 22 columns]"
      ]
     },
     "execution_count": 6,
     "metadata": {},
     "output_type": "execute_result"
    }
   ],
   "source": [
    "profiles_raw.drop(columns=['UID'], inplace=True)\n",
    "profiles_raw.head()"
   ]
  },
  {
   "cell_type": "code",
   "execution_count": 7,
   "metadata": {},
   "outputs": [
    {
     "data": {
      "text/plain": [
       "5437"
      ]
     },
     "execution_count": 7,
     "metadata": {},
     "output_type": "execute_result"
    }
   ],
   "source": [
    "profiles_raw.dropna(axis=0, inplace=True)\n",
    "len(profiles_raw)"
   ]
  },
  {
   "cell_type": "code",
   "execution_count": 8,
   "metadata": {},
   "outputs": [],
   "source": [
    "big5traits = ['Openness', 'Conscientiousness', 'Extraversion', 'Agreeableness', 'Emotional range', 'Self-transcendence']\n",
    "big5traits_class = big5traits.copy()\n",
    "big5traits_class.append('Class')"
   ]
  },
  {
   "cell_type": "markdown",
   "metadata": {},
   "source": [
    "## Autoencoder"
   ]
  },
  {
   "cell_type": "code",
   "execution_count": 9,
   "metadata": {},
   "outputs": [],
   "source": [
    "def Auto_Encoder(input_shape, output_dim, activation='relu', dropout=0.13, summary=False):\n",
    "    \n",
    "    Input_Layer = Input(shape=input_shape)\n",
    "    \n",
    "    # Encoding\n",
    "    Y = Dense(15, activation=activation)(Input_Layer)\n",
    "    Y = Dropout(dropout)(Y)\n",
    "    \n",
    "    Y = Dense(8, activation=activation)(Y)\n",
    "    Y = Dropout(dropout)(Y)\n",
    "    \n",
    "    Y = Dense(4, activation=activation)(Y)\n",
    "    Y = Dropout(dropout)(Y)\n",
    "    \n",
    "    # Bottleneck layer\n",
    "    Encoder = Dense(output_dim, activation=activation, name='bottleneck')(Y)\n",
    "    \n",
    "    # Decoding\n",
    "    Y = Dense(4, activation=activation)(Y)\n",
    "    Y = Dropout(dropout)(Y)\n",
    "    \n",
    "    Y = Dense(8, activation=activation)(Encoder)\n",
    "    Y = Dropout(dropout)(Y)\n",
    "    \n",
    "    Y = Dense(15, activation=activation)(Y)\n",
    "    Y = Dropout(dropout)(Y)\n",
    "    \n",
    "    Output_Layer = Dense(input_shape[0], activation=activation)(Y)\n",
    "    \n",
    "    model = Model(inputs=Input_Layer, outputs=Output_Layer)\n",
    "    \n",
    "    if summary:\n",
    "        print(model.summary())\n",
    "        \n",
    "    return model"
   ]
  },
  {
   "cell_type": "code",
   "execution_count": 10,
   "metadata": {},
   "outputs": [
    {
     "data": {
      "text/plain": [
       "['F_0', 'F_1']"
      ]
     },
     "execution_count": 10,
     "metadata": {},
     "output_type": "execute_result"
    }
   ],
   "source": [
    "new_dim = 2\n",
    "CHOSEN_TRAITS = ['F_{:d}'.format(i) for i in range(new_dim)]\n",
    "CHOSEN_TRAITS"
   ]
  },
  {
   "cell_type": "code",
   "execution_count": 11,
   "metadata": {},
   "outputs": [
    {
     "name": "stdout",
     "output_type": "stream",
     "text": [
      "WARNING:tensorflow:From /opt/conda/envs/Python36/lib/python3.6/site-packages/tensorflow/python/ops/resource_variable_ops.py:435: colocate_with (from tensorflow.python.framework.ops) is deprecated and will be removed in a future version.\n",
      "Instructions for updating:\n",
      "Colocations handled automatically by placer.\n",
      "WARNING:tensorflow:From /opt/conda/envs/Python36/lib/python3.6/site-packages/tensorflow/python/keras/layers/core.py:143: calling dropout (from tensorflow.python.ops.nn_ops) with keep_prob is deprecated and will be removed in a future version.\n",
      "Instructions for updating:\n",
      "Please use `rate` instead of `keep_prob`. Rate should be set to `rate = 1 - keep_prob`.\n",
      "_________________________________________________________________\n",
      "Layer (type)                 Output Shape              Param #   \n",
      "=================================================================\n",
      "input_1 (InputLayer)         (None, 22)                0         \n",
      "_________________________________________________________________\n",
      "dense (Dense)                (None, 15)                345       \n",
      "_________________________________________________________________\n",
      "dropout (Dropout)            (None, 15)                0         \n",
      "_________________________________________________________________\n",
      "dense_1 (Dense)              (None, 8)                 128       \n",
      "_________________________________________________________________\n",
      "dropout_1 (Dropout)          (None, 8)                 0         \n",
      "_________________________________________________________________\n",
      "dense_2 (Dense)              (None, 4)                 36        \n",
      "_________________________________________________________________\n",
      "dropout_2 (Dropout)          (None, 4)                 0         \n",
      "_________________________________________________________________\n",
      "bottleneck (Dense)           (None, 2)                 10        \n",
      "_________________________________________________________________\n",
      "dense_4 (Dense)              (None, 8)                 24        \n",
      "_________________________________________________________________\n",
      "dropout_4 (Dropout)          (None, 8)                 0         \n",
      "_________________________________________________________________\n",
      "dense_5 (Dense)              (None, 15)                135       \n",
      "_________________________________________________________________\n",
      "dropout_5 (Dropout)          (None, 15)                0         \n",
      "_________________________________________________________________\n",
      "dense_6 (Dense)              (None, 22)                352       \n",
      "=================================================================\n",
      "Total params: 1,030\n",
      "Trainable params: 1,030\n",
      "Non-trainable params: 0\n",
      "_________________________________________________________________\n",
      "None\n"
     ]
    }
   ],
   "source": [
    "autoencoder = Auto_Encoder((22, ), new_dim, activation='sigmoid',summary=True)"
   ]
  },
  {
   "cell_type": "code",
   "execution_count": 12,
   "metadata": {},
   "outputs": [],
   "source": [
    "autoencoder.compile(optimizer=tf.keras.optimizers.Adam(lr=0.001), loss=tf.keras.losses.MSE)"
   ]
  },
  {
   "cell_type": "code",
   "execution_count": 13,
   "metadata": {},
   "outputs": [
    {
     "data": {
      "text/plain": [
       "array([[0.672, 0.516, 0.203, ..., 0.437, 0.592, 0.485],\n",
       "       [0.77 , 0.443, 0.063, ..., 0.473, 0.882, 0.857],\n",
       "       [0.445, 0.777, 0.9  , ..., 0.826, 0.962, 0.754],\n",
       "       ...,\n",
       "       [0.542, 0.319, 0.17 , ..., 0.561, 0.372, 0.836],\n",
       "       [0.643, 0.743, 0.12 , ..., 0.477, 0.687, 0.86 ],\n",
       "       [0.585, 0.481, 0.468, ..., 0.66 , 0.876, 0.638]])"
      ]
     },
     "execution_count": 13,
     "metadata": {},
     "output_type": "execute_result"
    }
   ],
   "source": [
    "X = profiles_raw.to_numpy()\n",
    "X = np.round(X, 3)\n",
    "X"
   ]
  },
  {
   "cell_type": "code",
   "execution_count": 14,
   "metadata": {},
   "outputs": [
    {
     "name": "stdout",
     "output_type": "stream",
     "text": [
      "Train on 4349 samples, validate on 1088 samples\n",
      "WARNING:tensorflow:From /opt/conda/envs/Python36/lib/python3.6/site-packages/tensorflow/python/ops/math_ops.py:3066: to_int32 (from tensorflow.python.ops.math_ops) is deprecated and will be removed in a future version.\n",
      "Instructions for updating:\n",
      "Use tf.cast instead.\n",
      "Epoch 1/150\n",
      "4349/4349 [==============================] - 5s 1ms/sample - loss: 0.0873 - val_loss: 0.0830\n",
      "Epoch 2/150\n",
      "4349/4349 [==============================] - 1s 284us/sample - loss: 0.0783 - val_loss: 0.0785\n",
      "Epoch 3/150\n",
      "4349/4349 [==============================] - 1s 215us/sample - loss: 0.0747 - val_loss: 0.0773\n",
      "Epoch 4/150\n",
      "4349/4349 [==============================] - 0s 100us/sample - loss: 0.0732 - val_loss: 0.0771\n",
      "Epoch 5/150\n",
      "4349/4349 [==============================] - 1s 237us/sample - loss: 0.0726 - val_loss: 0.0773\n",
      "Epoch 6/150\n",
      "4349/4349 [==============================] - 1s 118us/sample - loss: 0.0724 - val_loss: 0.0774\n",
      "Epoch 7/150\n",
      "4349/4349 [==============================] - 0s 96us/sample - loss: 0.0723 - val_loss: 0.0775\n",
      "Epoch 8/150\n",
      "4349/4349 [==============================] - 3s 657us/sample - loss: 0.0721 - val_loss: 0.0777\n",
      "Epoch 9/150\n",
      "4349/4349 [==============================] - 3s 643us/sample - loss: 0.0721 - val_loss: 0.0776\n",
      "Epoch 10/150\n",
      "4349/4349 [==============================] - 1s 340us/sample - loss: 0.0720 - val_loss: 0.0777\n",
      "Epoch 11/150\n",
      "4349/4349 [==============================] - 0s 98us/sample - loss: 0.0719 - val_loss: 0.0776\n",
      "Epoch 12/150\n",
      "4349/4349 [==============================] - 0s 94us/sample - loss: 0.0719 - val_loss: 0.0777\n",
      "Epoch 13/150\n",
      "4349/4349 [==============================] - 0s 96us/sample - loss: 0.0717 - val_loss: 0.0776\n",
      "Epoch 14/150\n",
      "4349/4349 [==============================] - 0s 96us/sample - loss: 0.0717 - val_loss: 0.0777\n",
      "Epoch 15/150\n",
      "4349/4349 [==============================] - 3s 656us/sample - loss: 0.0717 - val_loss: 0.0777\n",
      "Epoch 16/150\n",
      "4349/4349 [==============================] - 2s 526us/sample - loss: 0.0716 - val_loss: 0.0776\n",
      "Epoch 17/150\n",
      "4349/4349 [==============================] - 3s 781us/sample - loss: 0.0716 - val_loss: 0.0776\n",
      "Epoch 18/150\n",
      "4349/4349 [==============================] - 1s 154us/sample - loss: 0.0716 - val_loss: 0.0775\n",
      "Epoch 19/150\n",
      "4349/4349 [==============================] - 0s 96us/sample - loss: 0.0715 - val_loss: 0.0777\n",
      "Epoch 20/150\n",
      "4349/4349 [==============================] - 0s 101us/sample - loss: 0.0715 - val_loss: 0.0775\n",
      "Epoch 21/150\n",
      "4349/4349 [==============================] - 0s 96us/sample - loss: 0.0715 - val_loss: 0.0776\n",
      "Epoch 22/150\n",
      "4349/4349 [==============================] - 2s 487us/sample - loss: 0.0714 - val_loss: 0.0777\n",
      "Epoch 23/150\n",
      "4349/4349 [==============================] - 2s 516us/sample - loss: 0.0714 - val_loss: 0.0776\n",
      "Epoch 24/150\n",
      "4349/4349 [==============================] - 3s 591us/sample - loss: 0.0714 - val_loss: 0.0776\n",
      "Epoch 25/150\n",
      "4349/4349 [==============================] - 3s 608us/sample - loss: 0.0713 - val_loss: 0.0777\n",
      "Epoch 26/150\n",
      "4349/4349 [==============================] - 1s 243us/sample - loss: 0.0713 - val_loss: 0.0777\n",
      "Epoch 27/150\n",
      "4349/4349 [==============================] - 0s 94us/sample - loss: 0.0714 - val_loss: 0.0776\n",
      "Epoch 28/150\n",
      "4349/4349 [==============================] - 2s 517us/sample - loss: 0.0713 - val_loss: 0.0776\n",
      "Epoch 29/150\n",
      "4349/4349 [==============================] - 0s 100us/sample - loss: 0.0714 - val_loss: 0.0777\n",
      "Epoch 30/150\n",
      "4349/4349 [==============================] - 0s 100us/sample - loss: 0.0713 - val_loss: 0.0774\n",
      "Epoch 31/150\n",
      "4349/4349 [==============================] - 3s 691us/sample - loss: 0.0712 - val_loss: 0.0775\n",
      "Epoch 32/150\n",
      "4349/4349 [==============================] - 3s 651us/sample - loss: 0.0711 - val_loss: 0.0774\n",
      "Epoch 33/150\n",
      "4349/4349 [==============================] - 1s 168us/sample - loss: 0.0711 - val_loss: 0.0773\n",
      "Epoch 34/150\n",
      "4349/4349 [==============================] - 0s 93us/sample - loss: 0.0709 - val_loss: 0.0770\n",
      "Epoch 35/150\n",
      "4349/4349 [==============================] - 0s 96us/sample - loss: 0.0705 - val_loss: 0.0768\n",
      "Epoch 36/150\n",
      "4349/4349 [==============================] - 2s 478us/sample - loss: 0.0702 - val_loss: 0.0764\n",
      "Epoch 37/150\n",
      "4349/4349 [==============================] - 1s 200us/sample - loss: 0.0697 - val_loss: 0.0757\n",
      "Epoch 38/150\n",
      "4349/4349 [==============================] - 0s 96us/sample - loss: 0.0691 - val_loss: 0.0748\n",
      "Epoch 39/150\n",
      "4349/4349 [==============================] - 0s 103us/sample - loss: 0.0681 - val_loss: 0.0738\n",
      "Epoch 40/150\n",
      "4349/4349 [==============================] - 1s 152us/sample - loss: 0.0670 - val_loss: 0.0724\n",
      "Epoch 41/150\n",
      "4349/4349 [==============================] - 0s 95us/sample - loss: 0.0655 - val_loss: 0.0707\n",
      "Epoch 42/150\n",
      "4349/4349 [==============================] - 0s 95us/sample - loss: 0.0639 - val_loss: 0.0687\n",
      "Epoch 43/150\n",
      "4349/4349 [==============================] - 0s 96us/sample - loss: 0.0622 - val_loss: 0.0665\n",
      "Epoch 44/150\n",
      "4349/4349 [==============================] - 1s 295us/sample - loss: 0.0605 - val_loss: 0.0644\n",
      "Epoch 45/150\n",
      "4349/4349 [==============================] - 0s 97us/sample - loss: 0.0589 - val_loss: 0.0624\n",
      "Epoch 46/150\n",
      "4349/4349 [==============================] - 2s 462us/sample - loss: 0.0574 - val_loss: 0.0606\n",
      "Epoch 47/150\n",
      "4349/4349 [==============================] - 1s 129us/sample - loss: 0.0562 - val_loss: 0.0590\n",
      "Epoch 48/150\n",
      "4349/4349 [==============================] - 1s 295us/sample - loss: 0.0552 - val_loss: 0.0576\n",
      "Epoch 49/150\n",
      "4349/4349 [==============================] - 1s 255us/sample - loss: 0.0544 - val_loss: 0.0564\n",
      "Epoch 50/150\n",
      "4349/4349 [==============================] - 0s 101us/sample - loss: 0.0537 - val_loss: 0.0553\n",
      "Epoch 51/150\n",
      "4349/4349 [==============================] - 0s 95us/sample - loss: 0.0532 - val_loss: 0.0542\n",
      "Epoch 52/150\n",
      "4349/4349 [==============================] - 0s 101us/sample - loss: 0.0526 - val_loss: 0.0533\n",
      "Epoch 53/150\n",
      "4349/4349 [==============================] - 0s 99us/sample - loss: 0.0522 - val_loss: 0.0525\n",
      "Epoch 54/150\n",
      "4349/4349 [==============================] - 1s 140us/sample - loss: 0.0516 - val_loss: 0.0517\n",
      "Epoch 55/150\n",
      "4349/4349 [==============================] - 3s 592us/sample - loss: 0.0513 - val_loss: 0.0510\n",
      "Epoch 56/150\n",
      "4349/4349 [==============================] - 1s 254us/sample - loss: 0.0511 - val_loss: 0.0504\n",
      "Epoch 57/150\n",
      "4349/4349 [==============================] - 3s 643us/sample - loss: 0.0507 - val_loss: 0.0498\n",
      "Epoch 58/150\n",
      "4349/4349 [==============================] - 3s 674us/sample - loss: 0.0507 - val_loss: 0.0494\n",
      "Epoch 59/150\n",
      "4349/4349 [==============================] - 3s 631us/sample - loss: 0.0504 - val_loss: 0.0490\n",
      "Epoch 60/150\n",
      "4349/4349 [==============================] - 1s 160us/sample - loss: 0.0502 - val_loss: 0.0486\n",
      "Epoch 61/150\n",
      "4349/4349 [==============================] - 0s 99us/sample - loss: 0.0500 - val_loss: 0.0483\n",
      "Epoch 62/150\n",
      "4349/4349 [==============================] - 0s 96us/sample - loss: 0.0499 - val_loss: 0.0480\n",
      "Epoch 63/150\n",
      "4349/4349 [==============================] - 0s 98us/sample - loss: 0.0497 - val_loss: 0.0478\n",
      "Epoch 64/150\n",
      "4349/4349 [==============================] - 0s 99us/sample - loss: 0.0497 - val_loss: 0.0475\n",
      "Epoch 65/150\n",
      "4349/4349 [==============================] - 2s 354us/sample - loss: 0.0493 - val_loss: 0.0473\n",
      "Epoch 66/150\n",
      "4349/4349 [==============================] - 2s 371us/sample - loss: 0.0496 - val_loss: 0.0471\n",
      "Epoch 67/150\n",
      "4349/4349 [==============================] - 0s 105us/sample - loss: 0.0493 - val_loss: 0.0470\n",
      "Epoch 68/150\n",
      "4349/4349 [==============================] - 0s 98us/sample - loss: 0.0493 - val_loss: 0.0468\n",
      "Epoch 69/150\n",
      "4349/4349 [==============================] - 0s 97us/sample - loss: 0.0494 - val_loss: 0.0467\n",
      "Epoch 70/150\n",
      "4349/4349 [==============================] - 2s 412us/sample - loss: 0.0491 - val_loss: 0.0466\n",
      "Epoch 71/150\n",
      "4349/4349 [==============================] - 2s 539us/sample - loss: 0.0491 - val_loss: 0.0465\n",
      "Epoch 72/150\n",
      "4349/4349 [==============================] - 2s 551us/sample - loss: 0.0492 - val_loss: 0.0464\n",
      "Epoch 73/150\n",
      "4349/4349 [==============================] - 3s 682us/sample - loss: 0.0490 - val_loss: 0.0463\n",
      "Epoch 74/150\n",
      "4349/4349 [==============================] - 2s 482us/sample - loss: 0.0488 - val_loss: 0.0461\n",
      "Epoch 75/150\n",
      "4349/4349 [==============================] - 3s 645us/sample - loss: 0.0487 - val_loss: 0.0461\n",
      "Epoch 76/150\n",
      "4349/4349 [==============================] - 3s 583us/sample - loss: 0.0487 - val_loss: 0.0459\n",
      "Epoch 77/150\n",
      "4349/4349 [==============================] - 3s 676us/sample - loss: 0.0486 - val_loss: 0.0459\n",
      "Epoch 78/150\n",
      "4349/4349 [==============================] - 2s 538us/sample - loss: 0.0486 - val_loss: 0.0458\n",
      "Epoch 79/150\n",
      "4349/4349 [==============================] - 0s 103us/sample - loss: 0.0484 - val_loss: 0.0456\n",
      "Epoch 80/150\n",
      "4349/4349 [==============================] - 0s 105us/sample - loss: 0.0484 - val_loss: 0.0455\n",
      "Epoch 81/150\n",
      "4349/4349 [==============================] - 0s 99us/sample - loss: 0.0484 - val_loss: 0.0454\n",
      "Epoch 82/150\n",
      "4349/4349 [==============================] - 0s 99us/sample - loss: 0.0483 - val_loss: 0.0454\n",
      "Epoch 83/150\n",
      "4349/4349 [==============================] - 0s 97us/sample - loss: 0.0483 - val_loss: 0.0454\n",
      "Epoch 84/150\n",
      "4349/4349 [==============================] - 0s 97us/sample - loss: 0.0481 - val_loss: 0.0452\n",
      "Epoch 85/150\n",
      "4349/4349 [==============================] - 0s 97us/sample - loss: 0.0481 - val_loss: 0.0451\n",
      "Epoch 86/150\n",
      "4349/4349 [==============================] - 0s 95us/sample - loss: 0.0481 - val_loss: 0.0451\n",
      "Epoch 87/150\n",
      "4349/4349 [==============================] - 0s 96us/sample - loss: 0.0480 - val_loss: 0.0450\n",
      "Epoch 88/150\n",
      "4349/4349 [==============================] - 0s 97us/sample - loss: 0.0480 - val_loss: 0.0449\n",
      "Epoch 89/150\n",
      "4349/4349 [==============================] - 0s 100us/sample - loss: 0.0481 - val_loss: 0.0450\n",
      "Epoch 90/150\n",
      "4349/4349 [==============================] - 0s 97us/sample - loss: 0.0478 - val_loss: 0.0448\n",
      "Epoch 91/150\n",
      "4349/4349 [==============================] - 0s 99us/sample - loss: 0.0478 - val_loss: 0.0448\n",
      "Epoch 92/150\n",
      "4349/4349 [==============================] - 0s 98us/sample - loss: 0.0478 - val_loss: 0.0448\n",
      "Epoch 93/150\n",
      "4349/4349 [==============================] - 2s 443us/sample - loss: 0.0476 - val_loss: 0.0446\n",
      "Epoch 94/150\n",
      "4349/4349 [==============================] - 1s 243us/sample - loss: 0.0475 - val_loss: 0.0446\n",
      "Epoch 95/150\n",
      "4349/4349 [==============================] - 0s 94us/sample - loss: 0.0477 - val_loss: 0.0446\n",
      "Epoch 96/150\n",
      "4349/4349 [==============================] - 0s 96us/sample - loss: 0.0474 - val_loss: 0.0445\n",
      "Epoch 97/150\n",
      "4349/4349 [==============================] - 0s 96us/sample - loss: 0.0474 - val_loss: 0.0444\n",
      "Epoch 98/150\n",
      "4349/4349 [==============================] - 0s 91us/sample - loss: 0.0475 - val_loss: 0.0444\n",
      "Epoch 99/150\n",
      "4349/4349 [==============================] - 0s 95us/sample - loss: 0.0474 - val_loss: 0.0444\n",
      "Epoch 100/150\n",
      "4349/4349 [==============================] - 0s 93us/sample - loss: 0.0471 - val_loss: 0.0444\n",
      "Epoch 101/150\n",
      "4349/4349 [==============================] - 0s 99us/sample - loss: 0.0473 - val_loss: 0.0442\n",
      "Epoch 102/150\n",
      "4349/4349 [==============================] - 0s 95us/sample - loss: 0.0475 - val_loss: 0.0443\n",
      "Epoch 103/150\n",
      "4349/4349 [==============================] - 0s 100us/sample - loss: 0.0472 - val_loss: 0.0442\n",
      "Epoch 104/150\n",
      "4349/4349 [==============================] - 0s 93us/sample - loss: 0.0474 - val_loss: 0.0441\n",
      "Epoch 105/150\n",
      "4349/4349 [==============================] - 0s 96us/sample - loss: 0.0470 - val_loss: 0.0441\n",
      "Epoch 106/150\n",
      "4349/4349 [==============================] - 1s 142us/sample - loss: 0.0473 - val_loss: 0.0440\n",
      "Epoch 107/150\n",
      "4349/4349 [==============================] - 0s 98us/sample - loss: 0.0469 - val_loss: 0.0440\n",
      "Epoch 108/150\n",
      "4349/4349 [==============================] - 0s 95us/sample - loss: 0.0471 - val_loss: 0.0439\n",
      "Epoch 109/150\n",
      "4349/4349 [==============================] - 0s 94us/sample - loss: 0.0471 - val_loss: 0.0439\n",
      "Epoch 110/150\n",
      "4349/4349 [==============================] - 0s 95us/sample - loss: 0.0472 - val_loss: 0.0439\n",
      "Epoch 111/150\n",
      "4349/4349 [==============================] - 0s 95us/sample - loss: 0.0471 - val_loss: 0.0439\n",
      "Epoch 112/150\n",
      "4349/4349 [==============================] - 0s 104us/sample - loss: 0.0469 - val_loss: 0.0438\n",
      "Epoch 113/150\n",
      "4349/4349 [==============================] - 1s 281us/sample - loss: 0.0473 - val_loss: 0.0438\n",
      "Epoch 114/150\n",
      "4349/4349 [==============================] - 0s 96us/sample - loss: 0.0470 - val_loss: 0.0438\n",
      "Epoch 115/150\n",
      "4349/4349 [==============================] - 0s 97us/sample - loss: 0.0471 - val_loss: 0.0438\n",
      "Epoch 116/150\n",
      "4349/4349 [==============================] - 0s 96us/sample - loss: 0.0470 - val_loss: 0.0438\n",
      "Epoch 117/150\n",
      "4349/4349 [==============================] - 0s 94us/sample - loss: 0.0471 - val_loss: 0.0437\n",
      "Epoch 118/150\n",
      "4349/4349 [==============================] - 0s 98us/sample - loss: 0.0467 - val_loss: 0.0437\n",
      "Epoch 119/150\n",
      "4349/4349 [==============================] - 0s 97us/sample - loss: 0.0468 - val_loss: 0.0436\n",
      "Epoch 120/150\n",
      "4349/4349 [==============================] - 0s 97us/sample - loss: 0.0469 - val_loss: 0.0437\n",
      "Epoch 121/150\n",
      "4349/4349 [==============================] - 0s 93us/sample - loss: 0.0468 - val_loss: 0.0436\n",
      "Epoch 122/150\n",
      "4349/4349 [==============================] - 0s 96us/sample - loss: 0.0468 - val_loss: 0.0436\n",
      "Epoch 123/150\n",
      "4349/4349 [==============================] - 0s 97us/sample - loss: 0.0466 - val_loss: 0.0435\n",
      "Epoch 124/150\n",
      "4349/4349 [==============================] - 0s 96us/sample - loss: 0.0466 - val_loss: 0.0435\n",
      "Epoch 125/150\n",
      "4349/4349 [==============================] - 0s 96us/sample - loss: 0.0468 - val_loss: 0.0435\n",
      "Epoch 126/150\n",
      "4349/4349 [==============================] - 0s 92us/sample - loss: 0.0466 - val_loss: 0.0435\n",
      "Epoch 127/150\n",
      "4349/4349 [==============================] - 0s 96us/sample - loss: 0.0466 - val_loss: 0.0434\n",
      "Epoch 128/150\n",
      "4349/4349 [==============================] - 0s 93us/sample - loss: 0.0465 - val_loss: 0.0434\n",
      "Epoch 129/150\n",
      "4349/4349 [==============================] - 0s 100us/sample - loss: 0.0465 - val_loss: 0.0434\n",
      "Epoch 130/150\n",
      "4349/4349 [==============================] - 0s 96us/sample - loss: 0.0465 - val_loss: 0.0433\n",
      "Epoch 131/150\n",
      "4349/4349 [==============================] - 0s 97us/sample - loss: 0.0466 - val_loss: 0.0433\n",
      "Epoch 132/150\n",
      "4349/4349 [==============================] - 0s 96us/sample - loss: 0.0467 - val_loss: 0.0433\n",
      "Epoch 133/150\n",
      "4349/4349 [==============================] - 0s 97us/sample - loss: 0.0464 - val_loss: 0.0434\n",
      "Epoch 134/150\n",
      "4349/4349 [==============================] - 0s 95us/sample - loss: 0.0467 - val_loss: 0.0434\n",
      "Epoch 135/150\n",
      "4349/4349 [==============================] - 1s 142us/sample - loss: 0.0465 - val_loss: 0.0433\n",
      "Epoch 136/150\n",
      "4349/4349 [==============================] - 0s 96us/sample - loss: 0.0466 - val_loss: 0.0433\n",
      "Epoch 137/150\n",
      "4349/4349 [==============================] - 2s 401us/sample - loss: 0.0466 - val_loss: 0.0432\n",
      "Epoch 138/150\n",
      "4349/4349 [==============================] - 0s 98us/sample - loss: 0.0463 - val_loss: 0.0432\n",
      "Epoch 139/150\n",
      "4349/4349 [==============================] - 0s 94us/sample - loss: 0.0465 - val_loss: 0.0431\n",
      "Epoch 140/150\n",
      "4349/4349 [==============================] - 0s 99us/sample - loss: 0.0465 - val_loss: 0.0431\n",
      "Epoch 141/150\n",
      "4349/4349 [==============================] - 0s 96us/sample - loss: 0.0465 - val_loss: 0.0431\n",
      "Epoch 142/150\n",
      "4349/4349 [==============================] - 0s 94us/sample - loss: 0.0465 - val_loss: 0.0432\n",
      "Epoch 143/150\n",
      "4349/4349 [==============================] - 0s 94us/sample - loss: 0.0463 - val_loss: 0.0431\n",
      "Epoch 144/150\n",
      "4349/4349 [==============================] - 0s 96us/sample - loss: 0.0463 - val_loss: 0.0431\n",
      "Epoch 145/150\n",
      "4349/4349 [==============================] - 0s 97us/sample - loss: 0.0463 - val_loss: 0.0430\n",
      "Epoch 146/150\n",
      "4349/4349 [==============================] - 0s 100us/sample - loss: 0.0463 - val_loss: 0.0430\n",
      "Epoch 147/150\n",
      "4349/4349 [==============================] - 0s 95us/sample - loss: 0.0464 - val_loss: 0.0430\n",
      "Epoch 148/150\n",
      "4349/4349 [==============================] - 0s 93us/sample - loss: 0.0462 - val_loss: 0.0430\n",
      "Epoch 149/150\n",
      "4349/4349 [==============================] - 0s 100us/sample - loss: 0.0461 - val_loss: 0.0430\n",
      "Epoch 150/150\n",
      "4349/4349 [==============================] - 0s 97us/sample - loss: 0.0462 - val_loss: 0.0430\n"
     ]
    },
    {
     "data": {
      "text/plain": [
       "<tensorflow.python.keras.callbacks.History at 0x7f2b218c0b38>"
      ]
     },
     "execution_count": 14,
     "metadata": {},
     "output_type": "execute_result"
    }
   ],
   "source": [
    "autoencoder.fit(X, X,\n",
    "            epochs=150,\n",
    "            batch_size=128,\n",
    "            shuffle=True,\n",
    "            validation_split=0.2)"
   ]
  },
  {
   "cell_type": "code",
   "execution_count": 15,
   "metadata": {},
   "outputs": [
    {
     "data": {
      "text/html": [
       "<div>\n",
       "<style scoped>\n",
       "    .dataframe tbody tr th:only-of-type {\n",
       "        vertical-align: middle;\n",
       "    }\n",
       "\n",
       "    .dataframe tbody tr th {\n",
       "        vertical-align: top;\n",
       "    }\n",
       "\n",
       "    .dataframe thead th {\n",
       "        text-align: right;\n",
       "    }\n",
       "</style>\n",
       "<table border=\"1\" class=\"dataframe\">\n",
       "  <thead>\n",
       "    <tr style=\"text-align: right;\">\n",
       "      <th></th>\n",
       "      <th>F_0</th>\n",
       "      <th>F_1</th>\n",
       "    </tr>\n",
       "  </thead>\n",
       "  <tbody>\n",
       "    <tr>\n",
       "      <th>0</th>\n",
       "      <td>0.120175</td>\n",
       "      <td>0.186156</td>\n",
       "    </tr>\n",
       "    <tr>\n",
       "      <th>1</th>\n",
       "      <td>0.584725</td>\n",
       "      <td>0.111856</td>\n",
       "    </tr>\n",
       "    <tr>\n",
       "      <th>2</th>\n",
       "      <td>0.582034</td>\n",
       "      <td>0.112137</td>\n",
       "    </tr>\n",
       "    <tr>\n",
       "      <th>3</th>\n",
       "      <td>0.235181</td>\n",
       "      <td>0.156660</td>\n",
       "    </tr>\n",
       "    <tr>\n",
       "      <th>4</th>\n",
       "      <td>0.117005</td>\n",
       "      <td>0.187330</td>\n",
       "    </tr>\n",
       "  </tbody>\n",
       "</table>\n",
       "</div>"
      ],
      "text/plain": [
       "        F_0       F_1\n",
       "0  0.120175  0.186156\n",
       "1  0.584725  0.111856\n",
       "2  0.582034  0.112137\n",
       "3  0.235181  0.156660\n",
       "4  0.117005  0.187330"
      ]
     },
     "execution_count": 15,
     "metadata": {},
     "output_type": "execute_result"
    }
   ],
   "source": [
    "encoder = Model(autoencoder.input, autoencoder.get_layer('bottleneck').output)\n",
    "\n",
    "data_red = encoder.predict(X)\n",
    "\n",
    "profiles = pd.DataFrame(data_red, columns=CHOSEN_TRAITS)\n",
    "profiles.head()"
   ]
  },
  {
   "cell_type": "code",
   "execution_count": 16,
   "metadata": {},
   "outputs": [
    {
     "data": {
      "text/html": [
       "<div>\n",
       "<style scoped>\n",
       "    .dataframe tbody tr th:only-of-type {\n",
       "        vertical-align: middle;\n",
       "    }\n",
       "\n",
       "    .dataframe tbody tr th {\n",
       "        vertical-align: top;\n",
       "    }\n",
       "\n",
       "    .dataframe thead th {\n",
       "        text-align: right;\n",
       "    }\n",
       "</style>\n",
       "<table border=\"1\" class=\"dataframe\">\n",
       "  <thead>\n",
       "    <tr style=\"text-align: right;\">\n",
       "      <th></th>\n",
       "      <th>F_0</th>\n",
       "      <th>F_1</th>\n",
       "    </tr>\n",
       "  </thead>\n",
       "  <tbody>\n",
       "    <tr>\n",
       "      <th>count</th>\n",
       "      <td>5.437000e+03</td>\n",
       "      <td>5437.000000</td>\n",
       "    </tr>\n",
       "    <tr>\n",
       "      <th>mean</th>\n",
       "      <td>1.535124e-01</td>\n",
       "      <td>0.376339</td>\n",
       "    </tr>\n",
       "    <tr>\n",
       "      <th>std</th>\n",
       "      <td>2.151939e-01</td>\n",
       "      <td>0.275351</td>\n",
       "    </tr>\n",
       "    <tr>\n",
       "      <th>min</th>\n",
       "      <td>2.980232e-08</td>\n",
       "      <td>0.110041</td>\n",
       "    </tr>\n",
       "    <tr>\n",
       "      <th>25%</th>\n",
       "      <td>2.601743e-04</td>\n",
       "      <td>0.147140</td>\n",
       "    </tr>\n",
       "    <tr>\n",
       "      <th>50%</th>\n",
       "      <td>1.846415e-02</td>\n",
       "      <td>0.276002</td>\n",
       "    </tr>\n",
       "    <tr>\n",
       "      <th>75%</th>\n",
       "      <td>2.910177e-01</td>\n",
       "      <td>0.537530</td>\n",
       "    </tr>\n",
       "    <tr>\n",
       "      <th>max</th>\n",
       "      <td>6.021039e-01</td>\n",
       "      <td>0.894595</td>\n",
       "    </tr>\n",
       "  </tbody>\n",
       "</table>\n",
       "</div>"
      ],
      "text/plain": [
       "                F_0          F_1\n",
       "count  5.437000e+03  5437.000000\n",
       "mean   1.535124e-01     0.376339\n",
       "std    2.151939e-01     0.275351\n",
       "min    2.980232e-08     0.110041\n",
       "25%    2.601743e-04     0.147140\n",
       "50%    1.846415e-02     0.276002\n",
       "75%    2.910177e-01     0.537530\n",
       "max    6.021039e-01     0.894595"
      ]
     },
     "execution_count": 16,
     "metadata": {},
     "output_type": "execute_result"
    }
   ],
   "source": [
    "profiles.describe()"
   ]
  },
  {
   "cell_type": "markdown",
   "metadata": {},
   "source": [
    "## Auxiliary"
   ]
  },
  {
   "cell_type": "code",
   "execution_count": 18,
   "metadata": {},
   "outputs": [],
   "source": [
    "def Davies_Bouldin_index(df, cats, cluster_cores, distance, order=1):\n",
    "    \n",
    "    n = len(cluster_cores)\n",
    "    sigmas = np.zeros(n)\n",
    "    \n",
    "    # average intra-cluster distances\n",
    "    for i, cc in enumerate(cluster_cores):\n",
    "        sigmas[i] = np.mean(df[df[cats] == i].apply(lambda row: distance(row[:-1], cluster_cores[i], k=order), axis=1))\n",
    "    \n",
    "    # max intra-inter relations\n",
    "    dists = [np.max([(sigmas[i] + sigmas[j])/distance(cluster_cores[i], cluster_cores[j], order) for j in range(n) if i != j]) for i in range(n)]\n",
    "    return np.mean(dists)\n",
    "    \n",
    "    \n",
    "def Distribution_distance(x, mean, cov):\n",
    "    n = len(mean)\n",
    "    stds = np.array([[cov[i, j] for j in range(n) if i == j][0] for i in range(n)])\n",
    "    \n",
    "    return scipy.linalg.norm(np.divide(np.abs(x-mean), stds))\n",
    "\n",
    "def Mahalanobis_distance(x, mean, inv_cov):\n",
    "    return (x-mean).T@inv_cov@(x-mean)\n",
    "\n",
    "def softmax(z):\n",
    "    return np.exp(z)/np.sum(np.exp(z))\n",
    "\n",
    "def minmax_scaling(z):\n",
    "    return (z - np.min(z))/(np.max(z) - np.min(z))\n",
    "\n",
    "def Davies_Bouldin_Mahalanobis(df, cats, cluster_cores, inv_cov):\n",
    "    \n",
    "    n = len(cluster_cores)\n",
    "    sigmas = np.zeros(n)\n",
    "    if len(inv_cov.shape) == 2:\n",
    "        ic = inv_cov.copy()\n",
    "        inv_cov = np.zeros((n, ic.shape[0], ic.shape[1]))\n",
    "        for i in range(n):\n",
    "            inv_cov[i] = ic.copy()\n",
    "            \n",
    "    # average intra-cluster distances\n",
    "    for i, cc in enumerate(cluster_cores):\n",
    "        sigmas[i] = np.mean(df[df[cats] == i].apply(lambda row: Mahalanobis_distance(row[:-1], cc, inv_cov[i]), axis=1))\n",
    "    \n",
    "    # max intra-inter relations\n",
    "    dists = [np.max([(sigmas[i] + sigmas[j])/Mahalanobis_distance(cluster_cores[i], cluster_cores[j], inv_cov[j]) for j in range(n) if i != j]) for i in range(n)]\n",
    "    return np.mean(dists)\n",
    "\n",
    "def boxplot(param, cats, data, ax=None):\n",
    "    if not ax:\n",
    "        fig, (ax) = plt.subplots(1, 1, figsize=(12, 4))\n",
    "        fig.suptitle('A box plot', fontsize=14)\n",
    "\n",
    "    sns.boxplot(x=cats, y=param, data=data,  ax=ax, orient='v')\n",
    "    ax.set_xlabel(\"{:s}\".format(param),size = 12,alpha=0.8)\n",
    "    ax.set_ylabel(param,size = 12,alpha=0.8)\n",
    "    \n",
    "def radar_plot(data, traits, COLOR='coral', \n",
    "               title=None, ax=None, labeled=None, \n",
    "               drop_xticks=False, drop_yticks=False):\n",
    "    N = len(traits)\n",
    "    # arclength from 0 up to this point (i)\n",
    "    angles = [2*np.pi*i/N for i in range(N)]\n",
    "    \n",
    "    if not ax:\n",
    "        fig = plt.figure(figsize=(10, 10))\n",
    "        ax = plt.subplot(111, polar=True)\n",
    "\n",
    "    # structure\n",
    "    ax.set_xticks(angles)\n",
    "    plt.xticks(angles, traits)\n",
    "    ax.set_yticks([0, 0.2, 0.5, 0.8, 1.0])\n",
    "    ax.set_thetalim(0, 2*np.pi)\n",
    "    ax.tick_params(direction='out', labelsize=12, colors='black',\n",
    "               grid_color='dimgrey', grid_alpha=0.8, labelrotation='auto')\n",
    "    \n",
    "    if drop_xticks:\n",
    "        plt.tick_params(\n",
    "                axis='both',    \n",
    "                which='both',      # both major and minor ticks are affected\n",
    "                bottom=False,      # ticks along the bottom edge are off\n",
    "                top=False,         # ticks along the top edge are off\n",
    "                labelbottom=False) # labels along the bottom edge are off\n",
    "    \n",
    "    if drop_yticks:\n",
    "        ax.set_yticks([])\n",
    "\n",
    "    # duplicating first point to close the circle\n",
    "    data = np.append(data, data[0])\n",
    "    angles.append(angles[0])\n",
    "    \n",
    "    if title:\n",
    "        ax.set_title(title, fontsize=12)\n",
    "    \n",
    "    ax.plot(angles, data, color=COLOR, linewidth=3, label=labeled)\n",
    "    ax.plot(angles, data, color=COLOR, linewidth=5, alpha=0.1)\n",
    "    ax.plot(angles, data, color=COLOR, linewidth=8, alpha=0.5)\n",
    "    ax.fill(angles, data, alpha=0.23, color=COLOR);\n",
    "    \n",
    "    \n",
    "def silhouette_evaluation(df, plot=True, distance='l2',samples_per_class=50, cmap='hsv', verbose=True):\n",
    "    \n",
    "    X = df.to_numpy()\n",
    "    labels = X[:, -1]\n",
    "    X = X[:, :-1]\n",
    "    cluster_codes, cluster_lengths = np.unique(labels, return_counts=True)\n",
    "    \n",
    "    sil = silhouette_samples(X, labels, metric=distance)\n",
    "    sil_score = silhouette_score(X, labels, metric=distance)\n",
    "    \n",
    "    res_df = pd.DataFrame(np.stack([labels, sil], axis=1), columns=['Class', 'Silhouette'])\n",
    "    sil_means = res_df.groupby('Class').mean()\n",
    "    \n",
    "    if verbose:\n",
    "        print('Silhouette quality of each cluster:')\n",
    "        print(sil_means)\n",
    "        print('Silhouette score of the clustering is: ', sil_score)\n",
    "    if plot:\n",
    "        sample_df = pd.DataFrame(columns=['Class', 'Silhouette'])\n",
    "        ax_labels = []\n",
    "        \n",
    "        for cat in cluster_codes:\n",
    "            sample_df = pd.concat([sample_df, res_df[res_df['Class'] == cat].sample(samples_per_class)])\n",
    "            ax_labels.append(\"Cluster {:d}\".format(int(cat)))\n",
    "            \n",
    "        # Create a color palette:\n",
    "        my_palette = plt.cm.get_cmap(cmap, len(cluster_codes))\n",
    "        sam = sample_df.to_numpy()\n",
    "        sam_class = sam[:, 0]\n",
    "        sam_sil = sam[:, 1]\n",
    "        \n",
    "        fig, ax = plt.subplots(figsize=(15, 20))\n",
    "        plt.title('Silhouette values', fontsize=20)\n",
    "        \n",
    "        plt.barh(y=np.arange(0, len(sam_sil)), width=sam_sil, edgecolor='k',\n",
    "                 color=my_palette(sam_class/np.max(sam_class)))\n",
    "        \n",
    "        ax.set_yticks(cluster_codes*samples_per_class + samples_per_class//2)\n",
    "        ax.set_yticklabels(ax_labels, fontsize=13, rotation='vertical')\n",
    "        ax.invert_yaxis()  # labels read top-to-bottom\n",
    "        ax.set_xlabel('Silhouette', fontsize=15)              \n",
    "        \n",
    "        \n",
    "    return res_df, sil_means, sil_score\n",
    "\n",
    "def Lk_norm(point1, point2, k=2):\n",
    "    \n",
    "    n = len(point1)\n",
    "    return np.power(np.sum([np.abs(point1[i] - point2[i])**k for i in range(n)]), 1/k)"
   ]
  },
  {
   "cell_type": "markdown",
   "metadata": {},
   "source": [
    "## K means"
   ]
  },
  {
   "cell_type": "markdown",
   "metadata": {},
   "source": [
    "### Model"
   ]
  },
  {
   "cell_type": "code",
   "execution_count": 19,
   "metadata": {},
   "outputs": [
    {
     "data": {
      "text/plain": [
       "(5437, 2)"
      ]
     },
     "execution_count": 19,
     "metadata": {},
     "output_type": "execute_result"
    }
   ],
   "source": [
    "data = profiles.to_numpy()\n",
    "data.shape"
   ]
  },
  {
   "cell_type": "code",
   "execution_count": 20,
   "metadata": {},
   "outputs": [
    {
     "name": "stdout",
     "output_type": "stream",
     "text": [
      "Took 0.96 seconds.\n"
     ]
    }
   ],
   "source": [
    "start_time = time.time()\n",
    "kmeans = KMeans(n_clusters=4, random_state=0, algorithm='auto',\n",
    "               max_iter=500, n_init=50).fit(data)\n",
    "print(\"Took {:.2f} seconds.\".format(time.time() - start_time))"
   ]
  },
  {
   "cell_type": "code",
   "execution_count": 21,
   "metadata": {},
   "outputs": [
    {
     "data": {
      "text/html": [
       "<div>\n",
       "<style scoped>\n",
       "    .dataframe tbody tr th:only-of-type {\n",
       "        vertical-align: middle;\n",
       "    }\n",
       "\n",
       "    .dataframe tbody tr th {\n",
       "        vertical-align: top;\n",
       "    }\n",
       "\n",
       "    .dataframe thead th {\n",
       "        text-align: right;\n",
       "    }\n",
       "</style>\n",
       "<table border=\"1\" class=\"dataframe\">\n",
       "  <thead>\n",
       "    <tr style=\"text-align: right;\">\n",
       "      <th></th>\n",
       "      <th>F_0</th>\n",
       "      <th>F_1</th>\n",
       "      <th>Class</th>\n",
       "    </tr>\n",
       "  </thead>\n",
       "  <tbody>\n",
       "    <tr>\n",
       "      <th>0</th>\n",
       "      <td>0.120175</td>\n",
       "      <td>0.186156</td>\n",
       "      <td>1</td>\n",
       "    </tr>\n",
       "    <tr>\n",
       "      <th>1</th>\n",
       "      <td>0.584725</td>\n",
       "      <td>0.111856</td>\n",
       "      <td>2</td>\n",
       "    </tr>\n",
       "    <tr>\n",
       "      <th>2</th>\n",
       "      <td>0.582034</td>\n",
       "      <td>0.112137</td>\n",
       "      <td>2</td>\n",
       "    </tr>\n",
       "    <tr>\n",
       "      <th>3</th>\n",
       "      <td>0.235181</td>\n",
       "      <td>0.156660</td>\n",
       "      <td>1</td>\n",
       "    </tr>\n",
       "    <tr>\n",
       "      <th>4</th>\n",
       "      <td>0.117005</td>\n",
       "      <td>0.187330</td>\n",
       "      <td>1</td>\n",
       "    </tr>\n",
       "  </tbody>\n",
       "</table>\n",
       "</div>"
      ],
      "text/plain": [
       "        F_0       F_1  Class\n",
       "0  0.120175  0.186156      1\n",
       "1  0.584725  0.111856      2\n",
       "2  0.582034  0.112137      2\n",
       "3  0.235181  0.156660      1\n",
       "4  0.117005  0.187330      1"
      ]
     },
     "execution_count": 21,
     "metadata": {},
     "output_type": "execute_result"
    }
   ],
   "source": [
    "cat = kmeans.labels_\n",
    "df = profiles.copy()\n",
    "df_raw = profiles_raw.copy()\n",
    "df['Class'] = cat\n",
    "df_raw['Class'] = cat\n",
    "df.head()"
   ]
  },
  {
   "cell_type": "markdown",
   "metadata": {},
   "source": [
    "### Evaluation"
   ]
  },
  {
   "cell_type": "code",
   "execution_count": 22,
   "metadata": {},
   "outputs": [
    {
     "name": "stderr",
     "output_type": "stream",
     "text": [
      "/opt/conda/envs/Python36/lib/python3.6/site-packages/seaborn/axisgrid.py:2065: UserWarning: The `size` parameter has been renamed to `height`; pleaes update your code.\n",
      "  warnings.warn(msg, UserWarning)\n",
      "/opt/conda/envs/Python36/lib/python3.6/site-packages/statsmodels/nonparametric/kde.py:488: RuntimeWarning: invalid value encountered in true_divide\n",
      "  binned = fast_linbin(X, a, b, gridsize) / (delta * nobs)\n",
      "/opt/conda/envs/Python36/lib/python3.6/site-packages/statsmodels/nonparametric/kdetools.py:34: RuntimeWarning: invalid value encountered in double_scalars\n",
      "  FAC1 = 2*(np.pi*bw/RANGE)**2\n",
      "/opt/conda/envs/Python36/lib/python3.6/site-packages/numpy/core/fromnumeric.py:83: RuntimeWarning: invalid value encountered in reduce\n",
      "  return ufunc.reduce(obj, axis, dtype, out, **passkwargs)\n"
     ]
    },
    {
     "data": {
      "image/png": "[encoded data removed]",
      "text/plain": [
       "<Figure size 742.215x388.8 with 12 Axes>"
      ]
     },
     "metadata": {
      "needs_background": "light"
     },
     "output_type": "display_data"
    }
   ],
   "source": [
    "pp = sns.pairplot(df, size=1.8, aspect=1.8,\n",
    "                  plot_kws=dict(edgecolor=\"k\", linewidth=0.5),\n",
    "                  diag_kind=\"kde\", diag_kws=dict(shade=True), \n",
    "                 hue='Class')\n",
    "\n",
    "fig = pp.fig \n",
    "\n",
    "fig.subplots_adjust(top=0.93, wspace=0.3)\n",
    "t = fig.suptitle('Clustering Maps in Pairplots', fontsize=16)"
   ]
  },
  {
   "cell_type": "code",
   "execution_count": 23,
   "metadata": {},
   "outputs": [
    {
     "data": {
      "image/png": "[encoded data removed]",
      "text/plain": [
       "<Figure size 720x1440 with 2 Axes>"
      ]
     },
     "metadata": {
      "needs_background": "light"
     },
     "output_type": "display_data"
    }
   ],
   "source": [
    "fig, axs = plt.subplots(len(df.columns[:-1]), 1, figsize=(10, 20))\n",
    "fig.suptitle('Box plot of chosen traits', fontsize=16)\n",
    "\n",
    "for i, trait in enumerate(df.columns[:-1]):\n",
    "    boxplot(trait, 'Class', df, axs[i])\n",
    "    \n",
    "plt.tight_layout()"
   ]
  },
  {
   "cell_type": "code",
   "execution_count": 24,
   "metadata": {},
   "outputs": [
    {
     "data": {
      "text/html": [
       "<div>\n",
       "<style scoped>\n",
       "    .dataframe tbody tr th:only-of-type {\n",
       "        vertical-align: middle;\n",
       "    }\n",
       "\n",
       "    .dataframe tbody tr th {\n",
       "        vertical-align: top;\n",
       "    }\n",
       "\n",
       "    .dataframe thead th {\n",
       "        text-align: right;\n",
       "    }\n",
       "</style>\n",
       "<table border=\"1\" class=\"dataframe\">\n",
       "  <thead>\n",
       "    <tr style=\"text-align: right;\">\n",
       "      <th></th>\n",
       "      <th>F_0</th>\n",
       "      <th>F_1</th>\n",
       "    </tr>\n",
       "  </thead>\n",
       "  <tbody>\n",
       "    <tr>\n",
       "      <th>0</th>\n",
       "      <td>0.000008</td>\n",
       "      <td>0.830041</td>\n",
       "    </tr>\n",
       "    <tr>\n",
       "      <th>1</th>\n",
       "      <td>0.190004</td>\n",
       "      <td>0.170677</td>\n",
       "    </tr>\n",
       "    <tr>\n",
       "      <th>2</th>\n",
       "      <td>0.525082</td>\n",
       "      <td>0.118350</td>\n",
       "    </tr>\n",
       "    <tr>\n",
       "      <th>3</th>\n",
       "      <td>0.015918</td>\n",
       "      <td>0.332253</td>\n",
       "    </tr>\n",
       "  </tbody>\n",
       "</table>\n",
       "</div>"
      ],
      "text/plain": [
       "        F_0       F_1\n",
       "0  0.000008  0.830041\n",
       "1  0.190004  0.170677\n",
       "2  0.525082  0.118350\n",
       "3  0.015918  0.332253"
      ]
     },
     "execution_count": 24,
     "metadata": {},
     "output_type": "execute_result"
    }
   ],
   "source": [
    "cluster_cores = kmeans.cluster_centers_\n",
    "cores = pd.DataFrame(cluster_cores, columns=df.columns[:-1])\n",
    "cores"
   ]
  },
  {
   "cell_type": "code",
   "execution_count": 25,
   "metadata": {},
   "outputs": [
    {
     "data": {
      "text/plain": [
       "0.43952352390182775"
      ]
     },
     "execution_count": 25,
     "metadata": {},
     "output_type": "execute_result"
    }
   ],
   "source": [
    "Davies_Bouldin_index(df, 'Class', cluster_cores, Lk_norm)"
   ]
  },
  {
   "cell_type": "code",
   "execution_count": 26,
   "metadata": {},
   "outputs": [
    {
     "data": {
      "text/html": [
       "<div>\n",
       "<style scoped>\n",
       "    .dataframe tbody tr th:only-of-type {\n",
       "        vertical-align: middle;\n",
       "    }\n",
       "\n",
       "    .dataframe tbody tr th {\n",
       "        vertical-align: top;\n",
       "    }\n",
       "\n",
       "    .dataframe thead th {\n",
       "        text-align: right;\n",
       "    }\n",
       "</style>\n",
       "<table border=\"1\" class=\"dataframe\">\n",
       "  <thead>\n",
       "    <tr style=\"text-align: right;\">\n",
       "      <th></th>\n",
       "      <th>Openness</th>\n",
       "      <th>Conscientiousness</th>\n",
       "      <th>Extraversion</th>\n",
       "      <th>Agreeableness</th>\n",
       "      <th>Emotional range</th>\n",
       "      <th>Challenge</th>\n",
       "      <th>Closeness</th>\n",
       "      <th>Curiosity</th>\n",
       "      <th>Excitement</th>\n",
       "      <th>Harmony</th>\n",
       "      <th>...</th>\n",
       "      <th>Love</th>\n",
       "      <th>Practicality</th>\n",
       "      <th>Self-expression</th>\n",
       "      <th>Stability</th>\n",
       "      <th>Structure</th>\n",
       "      <th>Conservation</th>\n",
       "      <th>Openness to change</th>\n",
       "      <th>Hedonism</th>\n",
       "      <th>Self-enhancement</th>\n",
       "      <th>Self-transcendence</th>\n",
       "    </tr>\n",
       "    <tr>\n",
       "      <th>Class</th>\n",
       "      <th></th>\n",
       "      <th></th>\n",
       "      <th></th>\n",
       "      <th></th>\n",
       "      <th></th>\n",
       "      <th></th>\n",
       "      <th></th>\n",
       "      <th></th>\n",
       "      <th></th>\n",
       "      <th></th>\n",
       "      <th></th>\n",
       "      <th></th>\n",
       "      <th></th>\n",
       "      <th></th>\n",
       "      <th></th>\n",
       "      <th></th>\n",
       "      <th></th>\n",
       "      <th></th>\n",
       "      <th></th>\n",
       "      <th></th>\n",
       "      <th></th>\n",
       "    </tr>\n",
       "  </thead>\n",
       "  <tbody>\n",
       "    <tr>\n",
       "      <th>0</th>\n",
       "      <td>0.840321</td>\n",
       "      <td>0.675435</td>\n",
       "      <td>0.442122</td>\n",
       "      <td>0.361957</td>\n",
       "      <td>0.412708</td>\n",
       "      <td>0.207887</td>\n",
       "      <td>0.173854</td>\n",
       "      <td>0.377030</td>\n",
       "      <td>0.122661</td>\n",
       "      <td>0.194385</td>\n",
       "      <td>...</td>\n",
       "      <td>0.143889</td>\n",
       "      <td>0.232035</td>\n",
       "      <td>0.208759</td>\n",
       "      <td>0.317414</td>\n",
       "      <td>0.472449</td>\n",
       "      <td>0.171216</td>\n",
       "      <td>0.302426</td>\n",
       "      <td>0.133983</td>\n",
       "      <td>0.183124</td>\n",
       "      <td>0.159718</td>\n",
       "    </tr>\n",
       "    <tr>\n",
       "      <th>1</th>\n",
       "      <td>0.613347</td>\n",
       "      <td>0.657609</td>\n",
       "      <td>0.338097</td>\n",
       "      <td>0.522469</td>\n",
       "      <td>0.600346</td>\n",
       "      <td>0.649553</td>\n",
       "      <td>0.497925</td>\n",
       "      <td>0.645016</td>\n",
       "      <td>0.410543</td>\n",
       "      <td>0.646944</td>\n",
       "      <td>...</td>\n",
       "      <td>0.438474</td>\n",
       "      <td>0.477914</td>\n",
       "      <td>0.537659</td>\n",
       "      <td>0.676803</td>\n",
       "      <td>0.683593</td>\n",
       "      <td>0.524463</td>\n",
       "      <td>0.552826</td>\n",
       "      <td>0.384444</td>\n",
       "      <td>0.561928</td>\n",
       "      <td>0.442039</td>\n",
       "    </tr>\n",
       "    <tr>\n",
       "      <th>2</th>\n",
       "      <td>0.480533</td>\n",
       "      <td>0.534420</td>\n",
       "      <td>0.319097</td>\n",
       "      <td>0.538916</td>\n",
       "      <td>0.666032</td>\n",
       "      <td>0.748835</td>\n",
       "      <td>0.684695</td>\n",
       "      <td>0.757100</td>\n",
       "      <td>0.695028</td>\n",
       "      <td>0.786929</td>\n",
       "      <td>...</td>\n",
       "      <td>0.637595</td>\n",
       "      <td>0.685193</td>\n",
       "      <td>0.759485</td>\n",
       "      <td>0.783867</td>\n",
       "      <td>0.699090</td>\n",
       "      <td>0.697096</td>\n",
       "      <td>0.724045</td>\n",
       "      <td>0.689053</td>\n",
       "      <td>0.782361</td>\n",
       "      <td>0.610770</td>\n",
       "    </tr>\n",
       "    <tr>\n",
       "      <th>3</th>\n",
       "      <td>0.697560</td>\n",
       "      <td>0.659059</td>\n",
       "      <td>0.341191</td>\n",
       "      <td>0.433458</td>\n",
       "      <td>0.538667</td>\n",
       "      <td>0.491112</td>\n",
       "      <td>0.329954</td>\n",
       "      <td>0.531246</td>\n",
       "      <td>0.265085</td>\n",
       "      <td>0.437991</td>\n",
       "      <td>...</td>\n",
       "      <td>0.288492</td>\n",
       "      <td>0.379154</td>\n",
       "      <td>0.368288</td>\n",
       "      <td>0.500646</td>\n",
       "      <td>0.614733</td>\n",
       "      <td>0.351262</td>\n",
       "      <td>0.436680</td>\n",
       "      <td>0.252448</td>\n",
       "      <td>0.408608</td>\n",
       "      <td>0.302994</td>\n",
       "    </tr>\n",
       "  </tbody>\n",
       "</table>\n",
       "<p>4 rows × 22 columns</p>\n",
       "</div>"
      ],
      "text/plain": [
       "       Openness  Conscientiousness  Extraversion  Agreeableness  \\\n",
       "Class                                                             \n",
       "0      0.840321           0.675435      0.442122       0.361957   \n",
       "1      0.613347           0.657609      0.338097       0.522469   \n",
       "2      0.480533           0.534420      0.319097       0.538916   \n",
       "3      0.697560           0.659059      0.341191       0.433458   \n",
       "\n",
       "       Emotional range  Challenge  Closeness  Curiosity  Excitement   Harmony  \\\n",
       "Class                                                                           \n",
       "0             0.412708   0.207887   0.173854   0.377030    0.122661  0.194385   \n",
       "1             0.600346   0.649553   0.497925   0.645016    0.410543  0.646944   \n",
       "2             0.666032   0.748835   0.684695   0.757100    0.695028  0.786929   \n",
       "3             0.538667   0.491112   0.329954   0.531246    0.265085  0.437991   \n",
       "\n",
       "       ...      Love  Practicality  Self-expression  Stability  Structure  \\\n",
       "Class  ...                                                                  \n",
       "0      ...  0.143889      0.232035         0.208759   0.317414   0.472449   \n",
       "1      ...  0.438474      0.477914         0.537659   0.676803   0.683593   \n",
       "2      ...  0.637595      0.685193         0.759485   0.783867   0.699090   \n",
       "3      ...  0.288492      0.379154         0.368288   0.500646   0.614733   \n",
       "\n",
       "       Conservation  Openness to change  Hedonism  Self-enhancement  \\\n",
       "Class                                                                 \n",
       "0          0.171216            0.302426  0.133983          0.183124   \n",
       "1          0.524463            0.552826  0.384444          0.561928   \n",
       "2          0.697096            0.724045  0.689053          0.782361   \n",
       "3          0.351262            0.436680  0.252448          0.408608   \n",
       "\n",
       "       Self-transcendence  \n",
       "Class                      \n",
       "0                0.159718  \n",
       "1                0.442039  \n",
       "2                0.610770  \n",
       "3                0.302994  \n",
       "\n",
       "[4 rows x 22 columns]"
      ]
     },
     "execution_count": 26,
     "metadata": {},
     "output_type": "execute_result"
    }
   ],
   "source": [
    "raw_cores = df_raw.groupby('Class').mean()\n",
    "raw_cores"
   ]
  },
  {
   "cell_type": "code",
   "execution_count": 27,
   "metadata": {},
   "outputs": [
    {
     "data": {
      "image/png": "[encoded data removed]",
      "text/plain": [
       "<Figure size 1728x1152 with 4 Axes>"
      ]
     },
     "metadata": {
      "needs_background": "light"
     },
     "output_type": "display_data"
    }
   ],
   "source": [
    "# Create a color palette:\n",
    "my_palette = plt.cm.get_cmap(\"plasma\", len(cores.index))\n",
    "\n",
    "raw_cores = df_raw.groupby('Class').mean()\n",
    "\n",
    "nb_clusters = len(cores)\n",
    "fig = plt.figure(figsize=(24, 16))\n",
    "fig.suptitle('Cluster cores visualization', fontsize=20)\n",
    "\n",
    "for i in range(nb_clusters):\n",
    "    axs = plt.subplot(4, 4, i+1, polar=True)\n",
    "    radar_plot(data = raw_cores[big5traits].to_numpy()[i], traits=big5traits, \n",
    "               COLOR=my_palette(i), ax=axs, drop_yticks=True, drop_xticks=False)\n",
    "    \n",
    "plt.tight_layout()"
   ]
  },
  {
   "cell_type": "code",
   "execution_count": 28,
   "metadata": {},
   "outputs": [
    {
     "name": "stdout",
     "output_type": "stream",
     "text": [
      "Silhouette quality of each cluster:\n",
      "       Silhouette\n",
      "Class            \n",
      "0.0      0.802078\n",
      "1.0      0.512209\n",
      "2.0      0.739824\n",
      "3.0      0.591975\n",
      "Silhouette score of the clustering is:  0.6619821340508263\n"
     ]
    },
    {
     "data": {
      "image/png": "[encoded data removed]",
      "text/plain": [
       "<Figure size 1080x1440 with 1 Axes>"
      ]
     },
     "metadata": {
      "needs_background": "light"
     },
     "output_type": "display_data"
    }
   ],
   "source": [
    "r = silhouette_evaluation(df, distance='l1', samples_per_class=50, cmap='Accent')"
   ]
  },
  {
   "cell_type": "markdown",
   "metadata": {},
   "source": [
    "## Saving results"
   ]
  },
  {
   "cell_type": "code",
   "execution_count": 29,
   "metadata": {},
   "outputs": [
    {
     "data": {
      "text/plain": [
       "{'file_name': 'clustered_2d.csv',\n",
       " 'message': 'File saved to project storage.',\n",
       " 'bucket_name': 'personalityampstreaming-donotdelete-pr-a8tibzhln8fz93',\n",
       " 'asset_id': 'ecc3a4c4-740b-46ce-afe6-209144fb781b'}"
      ]
     },
     "execution_count": 29,
     "metadata": {},
     "output_type": "execute_result"
    }
   ],
   "source": [
    "project.save_data('clustered_22d.csv', df_raw.to_csv(index=False), overwrite=True)\n",
    "project.save_data('clustered_2d.csv', df.to_csv(index=False), overwrite=True)"
   ]
  },
  {
   "cell_type": "markdown",
   "metadata": {},
   "source": [
    "## Deployment"
   ]
  },
  {
   "cell_type": "code",
   "execution_count": 10,
   "metadata": {},
   "outputs": [],
   "source": [
    "from watson_machine_learning_client import WatsonMachineLearningAPIClient\n",
    "\n",
    "# Credentials from Watson Machine Learning service\n",
    "wml_credentials = {\n",
    "  \"apikey\": \"*****************\",\n",
    "  \"iam_apikey_description\": \"*****************\",\n",
    "  \"iam_apikey_name\": \"Service credentials-1\",\n",
    "  \"iam_role_crn\": \"crn:v1:bluemix:public:iam::::serviceRole:Writer\",\n",
    "  \"iam_serviceid_crn\": \"*****************\"\n",
    "  \"instance_id\": \"*****************\",\n",
    "  \"url\": \"https://eu-gb.ml.cloud.ibm.com\"\n",
    "}"
   ]
  },
  {
   "cell_type": "code",
   "execution_count": 11,
   "metadata": {},
   "outputs": [],
   "source": [
    "client = WatsonMachineLearningAPIClient(wml_credentials)\n",
    "instance_details = client.service_instance.get_details()"
   ]
  },
  {
   "cell_type": "code",
   "execution_count": 12,
   "metadata": {},
   "outputs": [
    {
     "name": "stdout",
     "output_type": "stream",
     "text": [
      "------------------------------------  -----------------  ------  --------------  ------------------------  -----------------  -------------\n",
      "GUID                                  NAME               TYPE    STATE           CREATED                   FRAMEWORK          ARTIFACT TYPE\n",
      "a4d32f42-e602-4a76-87a9-61cf70c70c6d  Kmeans clustering  online  DEPLOY_SUCCESS  2020-08-04T14:11:35.116Z  scikit-learn-0.20  model\n",
      "6a96eebc-8b9c-4905-a3db-47da532a90fa  Encoder_v1         online  UNKNOWN         2020-08-04T14:10:14.645Z  tensorflow-1.15    model\n",
      "------------------------------------  -----------------  ------  --------------  ------------------------  -----------------  -------------\n"
     ]
    }
   ],
   "source": [
    "client.deployments.list()"
   ]
  },
  {
   "cell_type": "code",
   "execution_count": 34,
   "metadata": {},
   "outputs": [
    {
     "data": {
      "text/plain": [
       "'SUCCESS'"
      ]
     },
     "execution_count": 34,
     "metadata": {},
     "output_type": "execute_result"
    }
   ],
   "source": [
    "client.deployments.delete(\"726d0f57-6b51-404d-959f-de7a115afc6f\")"
   ]
  },
  {
   "cell_type": "markdown",
   "metadata": {},
   "source": [
    "### Encoder"
   ]
  },
  {
   "cell_type": "code",
   "execution_count": 35,
   "metadata": {},
   "outputs": [],
   "source": [
    "encoder.compile(optimizer=tf.keras.optimizers.Adam(lr=0.001), loss=tf.keras.losses.MSE)"
   ]
  },
  {
   "cell_type": "code",
   "execution_count": 36,
   "metadata": {},
   "outputs": [],
   "source": [
    "encoder.save(\"encoder_v1.h5\")"
   ]
  },
  {
   "cell_type": "code",
   "execution_count": 37,
   "metadata": {},
   "outputs": [
    {
     "name": "stdout",
     "output_type": "stream",
     "text": [
      "total 40K\r\n",
      "drwxr-x--- 2 dsxuser dsxuser 4.0K Aug  4 14:09 .\r\n",
      "drwx------ 1 dsxuser dsxuser 4.0K Aug  4 13:19 ..\r\n",
      "-rw-r----- 1 dsxuser dsxuser  25K Aug  4 14:09 encoder_v1.h5\r\n"
     ]
    }
   ],
   "source": [
    "!ls -lah"
   ]
  },
  {
   "cell_type": "code",
   "execution_count": 38,
   "metadata": {},
   "outputs": [
    {
     "name": "stdout",
     "output_type": "stream",
     "text": [
      "encoder_v1.h5\r\n"
     ]
    }
   ],
   "source": [
    "!tar -zcvf encoder_v1.tgz encoder_v1.h5"
   ]
  },
  {
   "cell_type": "code",
   "execution_count": 39,
   "metadata": {},
   "outputs": [],
   "source": [
    "encoder_props = {client.repository.ModelMetaNames.AUTHOR_NAME: \"Vadym_H\", \n",
    "               client.repository.ModelMetaNames.NAME: \"Encoder_v1\",\n",
    "               client.repository.ModelMetaNames.FRAMEWORK_NAME: \"tensorflow\",\n",
    "               client.repository.ModelMetaNames.FRAMEWORK_VERSION: \"1.15\" ,\n",
    "               client.repository.ModelMetaNames.FRAMEWORK_LIBRARIES: [{\"name\": \"keras\", \"version\": \"2.1.6\"}]\n",
    "              }"
   ]
  },
  {
   "cell_type": "code",
   "execution_count": 40,
   "metadata": {},
   "outputs": [],
   "source": [
    "published_encoder = client.repository.store_model(model=\"encoder_v1.tgz\", meta_props=encoder_props)"
   ]
  },
  {
   "cell_type": "code",
   "execution_count": 41,
   "metadata": {},
   "outputs": [
    {
     "data": {
      "text/plain": [
       "'b362d407-e582-4277-9bbf-c3aaede65d5a'"
      ]
     },
     "execution_count": 41,
     "metadata": {},
     "output_type": "execute_result"
    }
   ],
   "source": [
    "published_encoder_uid = published_encoder[\"metadata\"][\"guid\"]\n",
    "encoder_details = client.repository.get_details(published_encoder_uid)\n",
    "published_encoder_uid"
   ]
  },
  {
   "cell_type": "code",
   "execution_count": 42,
   "metadata": {},
   "outputs": [
    {
     "name": "stdout",
     "output_type": "stream",
     "text": [
      "\n",
      "\n",
      "#######################################################################################\n",
      "\n",
      "Synchronous deployment creation for uid: 'b362d407-e582-4277-9bbf-c3aaede65d5a' started\n",
      "\n",
      "#######################################################################################\n",
      "\n",
      "\n",
      "INITIALIZING\n",
      "DEPLOY_IN_PROGRESS.............\n",
      "DEPLOY_SUCCESS\n",
      "\n",
      "\n",
      "------------------------------------------------------------------------------------------------\n",
      "Successfully finished deployment creation, deployment_uid='6a96eebc-8b9c-4905-a3db-47da532a90fa'\n",
      "------------------------------------------------------------------------------------------------\n",
      "\n",
      "\n"
     ]
    }
   ],
   "source": [
    "encoder_deployment = client.deployments.create(artifact_uid=published_encoder_uid, name=\"Encoder_v1\")"
   ]
  },
  {
   "cell_type": "markdown",
   "metadata": {},
   "source": [
    "### Kmeans"
   ]
  },
  {
   "cell_type": "code",
   "execution_count": 43,
   "metadata": {},
   "outputs": [
    {
     "data": {
      "text/plain": [
       "(5437, 2)"
      ]
     },
     "execution_count": 43,
     "metadata": {},
     "output_type": "execute_result"
    }
   ],
   "source": [
    "data.shape"
   ]
  },
  {
   "cell_type": "code",
   "execution_count": 44,
   "metadata": {},
   "outputs": [],
   "source": [
    "published_kmeans = client.repository.store_model(model=kmeans, meta_props={'name':'Kmeans clustering based on reduced data'})"
   ]
  },
  {
   "cell_type": "code",
   "execution_count": 45,
   "metadata": {},
   "outputs": [],
   "source": [
    "import json\n",
    "published_kmeans_uid = client.repository.get_model_uid(published_kmeans)\n",
    "kmeans_details = client.repository.get_details(published_kmeans_uid)\n",
    "\n",
    "#print(json.dumps(model_details, indent=2))"
   ]
  },
  {
   "cell_type": "code",
   "execution_count": 46,
   "metadata": {},
   "outputs": [
    {
     "name": "stdout",
     "output_type": "stream",
     "text": [
      "\n",
      "\n",
      "#######################################################################################\n",
      "\n",
      "Synchronous deployment creation for uid: '2c291cee-a9ee-47d1-a981-ce84ed68b9f7' started\n",
      "\n",
      "#######################################################################################\n",
      "\n",
      "\n",
      "INITIALIZING\n",
      "DEPLOY_SUCCESS\n",
      "\n",
      "\n",
      "------------------------------------------------------------------------------------------------\n",
      "Successfully finished deployment creation, deployment_uid='a4d32f42-e602-4a76-87a9-61cf70c70c6d'\n",
      "------------------------------------------------------------------------------------------------\n",
      "\n",
      "\n"
     ]
    }
   ],
   "source": [
    "kmeans_deployment = client.deployments.create(published_kmeans_uid, 'Kmeans clustering')"
   ]
  },
  {
   "cell_type": "markdown",
   "metadata": {},
   "source": [
    "### Deployments list"
   ]
  },
  {
   "cell_type": "code",
   "execution_count": 47,
   "metadata": {},
   "outputs": [],
   "source": [
    "#client.deployments.get_details()"
   ]
  },
  {
   "cell_type": "code",
   "execution_count": 48,
   "metadata": {},
   "outputs": [
    {
     "name": "stdout",
     "output_type": "stream",
     "text": [
      "------------------------------------  -----------------  ------  --------------  ------------------------  -----------------  -------------\n",
      "GUID                                  NAME               TYPE    STATE           CREATED                   FRAMEWORK          ARTIFACT TYPE\n",
      "a4d32f42-e602-4a76-87a9-61cf70c70c6d  Kmeans clustering  online  DEPLOY_SUCCESS  2020-08-04T14:11:35.116Z  scikit-learn-0.20  model\n",
      "6a96eebc-8b9c-4905-a3db-47da532a90fa  Encoder_v1         online  DEPLOY_SUCCESS  2020-08-04T14:10:14.645Z  tensorflow-1.15    model\n",
      "------------------------------------  -----------------  ------  --------------  ------------------------  -----------------  -------------\n"
     ]
    }
   ],
   "source": [
    "client.deployments.list()"
   ]
  },
  {
   "cell_type": "code",
   "execution_count": 49,
   "metadata": {},
   "outputs": [],
   "source": [
    "base_link = \"https://eu-gb.ml.cloud.ibm.com/v3/wml_instances/05c04464-6f99-4eb2-97e0-3f1cac001764/deployments/\"\n",
    "scoring_endpoint_encoder = base_link + \"6a96eebc-8b9c-4905-a3db-47da532a90fa\" + \"/online\"\n",
    "scoring_endpoint_kmeans = base_link + \"a4d32f42-e602-4a76-87a9-61cf70c70c6d\" + \"/online\""
   ]
  },
  {
   "cell_type": "code",
   "execution_count": 50,
   "metadata": {},
   "outputs": [
    {
     "name": "stdout",
     "output_type": "stream",
     "text": [
      "Encoder:  https://eu-gb.ml.cloud.ibm.com/v3/wml_instances/05c04464-6f99-4eb2-97e0-3f1cac001764/deployments/6a96eebc-8b9c-4905-a3db-47da532a90fa/online\n",
      "Kmeans:  https://eu-gb.ml.cloud.ibm.com/v3/wml_instances/05c04464-6f99-4eb2-97e0-3f1cac001764/deployments/a4d32f42-e602-4a76-87a9-61cf70c70c6d/online\n"
     ]
    }
   ],
   "source": [
    "print(\"Encoder: \", scoring_endpoint_encoder)\n",
    "print(\"Kmeans: \", scoring_endpoint_kmeans)"
   ]
  },
  {
   "cell_type": "code",
   "execution_count": 51,
   "metadata": {},
   "outputs": [
    {
     "name": "stdout",
     "output_type": "stream",
     "text": [
      "Encoder:  https://eu-gb.ml.cloud.ibm.com/v3/wml_instances/05c04464-6f99-4eb2-97e0-3f1cac001764/deployments/6a96eebc-8b9c-4905-a3db-47da532a90fa/online\n",
      "Kmeans:  https://eu-gb.ml.cloud.ibm.com/v3/wml_instances/05c04464-6f99-4eb2-97e0-3f1cac001764/deployments/a4d32f42-e602-4a76-87a9-61cf70c70c6d/online\n"
     ]
    }
   ],
   "source": [
    "print(\"Encoder: \", scoring_endpoint_encoder)\n",
    "print(\"Kmeans: \", scoring_endpoint_kmeans)"
   ]
  },
  {
   "cell_type": "code",
   "execution_count": 150,
   "metadata": {},
   "outputs": [],
   "source": [
    "space_guid = \"05c04464-6f99-4eb2-97e0-3f1cac001764\"\n",
    "encoder_guid = \"809062e6-5cc3-46c2-98a3-a7cd68ae1626\"\n",
    "kmeans_guid = \"b1334231-2a8e-4e4b-847b-8f1d68b47e56\""
   ]
  },
  {
   "cell_type": "markdown",
   "metadata": {},
   "source": [
    "## Check scoring"
   ]
  },
  {
   "cell_type": "code",
   "execution_count": 52,
   "metadata": {},
   "outputs": [
    {
     "data": {
      "text/plain": [
       "array([0.50975516, 0.80323022, 0.50754827, 0.55540762, 0.78144845,\n",
       "       0.70499645, 0.60309413, 0.48089569, 0.80753924, 0.66633749,\n",
       "       0.66887864, 0.82673841, 0.7208548 , 0.76193571, 0.89278253,\n",
       "       0.52162718, 0.51708193, 0.61525182, 0.7193755 , 0.5556906 ,\n",
       "       0.72649778, 0.53144463])"
      ]
     },
     "execution_count": 52,
     "metadata": {},
     "output_type": "execute_result"
    }
   ],
   "source": [
    "profiles_raw.iloc[42].to_numpy()"
   ]
  },
  {
   "cell_type": "code",
   "execution_count": 53,
   "metadata": {},
   "outputs": [
    {
     "data": {
      "text/plain": [
       "[0.092,\n",
       " 0.017,\n",
       " 0.507,\n",
       " 0.323,\n",
       " 0.815,\n",
       " 0.463,\n",
       " 0.594,\n",
       " 0.629,\n",
       " 0.135,\n",
       " 0.084,\n",
       " 0.893,\n",
       " 0.877,\n",
       " 0.112,\n",
       " 0.903,\n",
       " 0.482,\n",
       " 0.371,\n",
       " 0.158,\n",
       " 0.808,\n",
       " 0.861,\n",
       " 0.623,\n",
       " 0.408,\n",
       " 0.132]"
      ]
     },
     "execution_count": 53,
     "metadata": {},
     "output_type": "execute_result"
    }
   ],
   "source": [
    "row = np.random.uniform(size=22)\n",
    "row = np.round(row, 3)\n",
    "row = row.tolist()\n",
    "row"
   ]
  },
  {
   "cell_type": "code",
   "execution_count": 54,
   "metadata": {},
   "outputs": [],
   "source": [
    "encoder_scoring_payload = {'values': [row]}\n",
    "encoder_prediction = client.deployments.score(scoring_endpoint_encoder, encoder_scoring_payload)"
   ]
  },
  {
   "cell_type": "code",
   "execution_count": 55,
   "metadata": {},
   "outputs": [
    {
     "data": {
      "text/plain": [
       "[0.29357796907424927, 0.1467781960964203]"
      ]
     },
     "execution_count": 55,
     "metadata": {},
     "output_type": "execute_result"
    }
   ],
   "source": [
    "encoder_prediction['values'][0]"
   ]
  },
  {
   "cell_type": "code",
   "execution_count": 56,
   "metadata": {},
   "outputs": [
    {
     "data": {
      "text/plain": [
       "[1]"
      ]
     },
     "execution_count": 56,
     "metadata": {},
     "output_type": "execute_result"
    }
   ],
   "source": [
    "kmeans_scoring_payload = {'values': encoder_prediction['values']}\n",
    "kmeans_prediction = client.deployments.score(scoring_endpoint_kmeans, kmeans_scoring_payload)\n",
    "kmeans_prediction['values'][0]"
   ]
  },
  {
   "cell_type": "markdown",
   "metadata": {},
   "source": [
    "***Comment:*** It may be observed that deployments work and can be accessed following the procedure above.\n",
    "\n",
    "---"
   ]
  }
 ],
 "metadata": {
  "kernelspec": {
   "display_name": "Python 3.6",
   "language": "python",
   "name": "python3"
  },
  "language_info": {
   "codemirror_mode": {
    "name": "ipython",
    "version": 3
   },
   "file_extension": ".py",
   "mimetype": "text/x-python",
   "name": "python",
   "nbconvert_exporter": "python",
   "pygments_lexer": "ipython3",
   "version": "3.6.9"
  }
 },
 "nbformat": 4,
 "nbformat_minor": 1
}
